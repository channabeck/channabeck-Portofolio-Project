{
  "nbformat": 4,
  "nbformat_minor": 0,
  "metadata": {
    "colab": {
      "name": "Timeseries-LSTM",
      "provenance": [],
      "collapsed_sections": []
    },
    "kernelspec": {
      "name": "python3",
      "display_name": "Python 3"
    },
    "language_info": {
      "name": "python"
    }
  },
  "cells": [
    {
      "cell_type": "markdown",
      "metadata": {
        "id": "IJ8fXo7xQpc-"
      },
      "source": [
        "# **Tugas Dicoding Proyek Akhir : Time Series dengan LSTM**\n",
        "\n",
        "Nama : Moh Channa Beck Sutansyah\n",
        "\n",
        "No Telepon : +6285728188067\n",
        "\n",
        "Kota Tempat Tinggal : Kudus\n"
      ]
    },
    {
      "cell_type": "markdown",
      "metadata": {
        "id": "PUcfCANKSDFr"
      },
      "source": [
        "**1.Download Dataset dari Kaggle**"
      ]
    },
    {
      "cell_type": "code",
      "metadata": {
        "id": "vRsk0teZHzlJ"
      },
      "source": [
        "#Install Kaggle\n",
        "!pip install -q kaggle"
      ],
      "execution_count": null,
      "outputs": []
    },
    {
      "cell_type": "code",
      "metadata": {
        "colab": {
          "resources": {
            "http://localhost:8080/nbextensions/google.colab/files.js": {
              "data": "Ly8gQ29weXJpZ2h0IDIwMTcgR29vZ2xlIExMQwovLwovLyBMaWNlbnNlZCB1bmRlciB0aGUgQXBhY2hlIExpY2Vuc2UsIFZlcnNpb24gMi4wICh0aGUgIkxpY2Vuc2UiKTsKLy8geW91IG1heSBub3QgdXNlIHRoaXMgZmlsZSBleGNlcHQgaW4gY29tcGxpYW5jZSB3aXRoIHRoZSBMaWNlbnNlLgovLyBZb3UgbWF5IG9idGFpbiBhIGNvcHkgb2YgdGhlIExpY2Vuc2UgYXQKLy8KLy8gICAgICBodHRwOi8vd3d3LmFwYWNoZS5vcmcvbGljZW5zZXMvTElDRU5TRS0yLjAKLy8KLy8gVW5sZXNzIHJlcXVpcmVkIGJ5IGFwcGxpY2FibGUgbGF3IG9yIGFncmVlZCB0byBpbiB3cml0aW5nLCBzb2Z0d2FyZQovLyBkaXN0cmlidXRlZCB1bmRlciB0aGUgTGljZW5zZSBpcyBkaXN0cmlidXRlZCBvbiBhbiAiQVMgSVMiIEJBU0lTLAovLyBXSVRIT1VUIFdBUlJBTlRJRVMgT1IgQ09ORElUSU9OUyBPRiBBTlkgS0lORCwgZWl0aGVyIGV4cHJlc3Mgb3IgaW1wbGllZC4KLy8gU2VlIHRoZSBMaWNlbnNlIGZvciB0aGUgc3BlY2lmaWMgbGFuZ3VhZ2UgZ292ZXJuaW5nIHBlcm1pc3Npb25zIGFuZAovLyBsaW1pdGF0aW9ucyB1bmRlciB0aGUgTGljZW5zZS4KCi8qKgogKiBAZmlsZW92ZXJ2aWV3IEhlbHBlcnMgZm9yIGdvb2dsZS5jb2xhYiBQeXRob24gbW9kdWxlLgogKi8KKGZ1bmN0aW9uKHNjb3BlKSB7CmZ1bmN0aW9uIHNwYW4odGV4dCwgc3R5bGVBdHRyaWJ1dGVzID0ge30pIHsKICBjb25zdCBlbGVtZW50ID0gZG9jdW1lbnQuY3JlYXRlRWxlbWVudCgnc3BhbicpOwogIGVsZW1lbnQudGV4dENvbnRlbnQgPSB0ZXh0OwogIGZvciAoY29uc3Qga2V5IG9mIE9iamVjdC5rZXlzKHN0eWxlQXR0cmlidXRlcykpIHsKICAgIGVsZW1lbnQuc3R5bGVba2V5XSA9IHN0eWxlQXR0cmlidXRlc1trZXldOwogIH0KICByZXR1cm4gZWxlbWVudDsKfQoKLy8gTWF4IG51bWJlciBvZiBieXRlcyB3aGljaCB3aWxsIGJlIHVwbG9hZGVkIGF0IGEgdGltZS4KY29uc3QgTUFYX1BBWUxPQURfU0laRSA9IDEwMCAqIDEwMjQ7CgpmdW5jdGlvbiBfdXBsb2FkRmlsZXMoaW5wdXRJZCwgb3V0cHV0SWQpIHsKICBjb25zdCBzdGVwcyA9IHVwbG9hZEZpbGVzU3RlcChpbnB1dElkLCBvdXRwdXRJZCk7CiAgY29uc3Qgb3V0cHV0RWxlbWVudCA9IGRvY3VtZW50LmdldEVsZW1lbnRCeUlkKG91dHB1dElkKTsKICAvLyBDYWNoZSBzdGVwcyBvbiB0aGUgb3V0cHV0RWxlbWVudCB0byBtYWtlIGl0IGF2YWlsYWJsZSBmb3IgdGhlIG5leHQgY2FsbAogIC8vIHRvIHVwbG9hZEZpbGVzQ29udGludWUgZnJvbSBQeXRob24uCiAgb3V0cHV0RWxlbWVudC5zdGVwcyA9IHN0ZXBzOwoKICByZXR1cm4gX3VwbG9hZEZpbGVzQ29udGludWUob3V0cHV0SWQpOwp9CgovLyBUaGlzIGlzIHJvdWdobHkgYW4gYXN5bmMgZ2VuZXJhdG9yIChub3Qgc3VwcG9ydGVkIGluIHRoZSBicm93c2VyIHlldCksCi8vIHdoZXJlIHRoZXJlIGFyZSBtdWx0aXBsZSBhc3luY2hyb25vdXMgc3RlcHMgYW5kIHRoZSBQeXRob24gc2lkZSBpcyBnb2luZwovLyB0byBwb2xsIGZvciBjb21wbGV0aW9uIG9mIGVhY2ggc3RlcC4KLy8gVGhpcyB1c2VzIGEgUHJvbWlzZSB0byBibG9jayB0aGUgcHl0aG9uIHNpZGUgb24gY29tcGxldGlvbiBvZiBlYWNoIHN0ZXAsCi8vIHRoZW4gcGFzc2VzIHRoZSByZXN1bHQgb2YgdGhlIHByZXZpb3VzIHN0ZXAgYXMgdGhlIGlucHV0IHRvIHRoZSBuZXh0IHN0ZXAuCmZ1bmN0aW9uIF91cGxvYWRGaWxlc0NvbnRpbnVlKG91dHB1dElkKSB7CiAgY29uc3Qgb3V0cHV0RWxlbWVudCA9IGRvY3VtZW50LmdldEVsZW1lbnRCeUlkKG91dHB1dElkKTsKICBjb25zdCBzdGVwcyA9IG91dHB1dEVsZW1lbnQuc3RlcHM7CgogIGNvbnN0IG5leHQgPSBzdGVwcy5uZXh0KG91dHB1dEVsZW1lbnQubGFzdFByb21pc2VWYWx1ZSk7CiAgcmV0dXJuIFByb21pc2UucmVzb2x2ZShuZXh0LnZhbHVlLnByb21pc2UpLnRoZW4oKHZhbHVlKSA9PiB7CiAgICAvLyBDYWNoZSB0aGUgbGFzdCBwcm9taXNlIHZhbHVlIHRvIG1ha2UgaXQgYXZhaWxhYmxlIHRvIHRoZSBuZXh0CiAgICAvLyBzdGVwIG9mIHRoZSBnZW5lcmF0b3IuCiAgICBvdXRwdXRFbGVtZW50Lmxhc3RQcm9taXNlVmFsdWUgPSB2YWx1ZTsKICAgIHJldHVybiBuZXh0LnZhbHVlLnJlc3BvbnNlOwogIH0pOwp9CgovKioKICogR2VuZXJhdG9yIGZ1bmN0aW9uIHdoaWNoIGlzIGNhbGxlZCBiZXR3ZWVuIGVhY2ggYXN5bmMgc3RlcCBvZiB0aGUgdXBsb2FkCiAqIHByb2Nlc3MuCiAqIEBwYXJhbSB7c3RyaW5nfSBpbnB1dElkIEVsZW1lbnQgSUQgb2YgdGhlIGlucHV0IGZpbGUgcGlja2VyIGVsZW1lbnQuCiAqIEBwYXJhbSB7c3RyaW5nfSBvdXRwdXRJZCBFbGVtZW50IElEIG9mIHRoZSBvdXRwdXQgZGlzcGxheS4KICogQHJldHVybiB7IUl0ZXJhYmxlPCFPYmplY3Q+fSBJdGVyYWJsZSBvZiBuZXh0IHN0ZXBzLgogKi8KZnVuY3Rpb24qIHVwbG9hZEZpbGVzU3RlcChpbnB1dElkLCBvdXRwdXRJZCkgewogIGNvbnN0IGlucHV0RWxlbWVudCA9IGRvY3VtZW50LmdldEVsZW1lbnRCeUlkKGlucHV0SWQpOwogIGlucHV0RWxlbWVudC5kaXNhYmxlZCA9IGZhbHNlOwoKICBjb25zdCBvdXRwdXRFbGVtZW50ID0gZG9jdW1lbnQuZ2V0RWxlbWVudEJ5SWQob3V0cHV0SWQpOwogIG91dHB1dEVsZW1lbnQuaW5uZXJIVE1MID0gJyc7CgogIGNvbnN0IHBpY2tlZFByb21pc2UgPSBuZXcgUHJvbWlzZSgocmVzb2x2ZSkgPT4gewogICAgaW5wdXRFbGVtZW50LmFkZEV2ZW50TGlzdGVuZXIoJ2NoYW5nZScsIChlKSA9PiB7CiAgICAgIHJlc29sdmUoZS50YXJnZXQuZmlsZXMpOwogICAgfSk7CiAgfSk7CgogIGNvbnN0IGNhbmNlbCA9IGRvY3VtZW50LmNyZWF0ZUVsZW1lbnQoJ2J1dHRvbicpOwogIGlucHV0RWxlbWVudC5wYXJlbnRFbGVtZW50LmFwcGVuZENoaWxkKGNhbmNlbCk7CiAgY2FuY2VsLnRleHRDb250ZW50ID0gJ0NhbmNlbCB1cGxvYWQnOwogIGNvbnN0IGNhbmNlbFByb21pc2UgPSBuZXcgUHJvbWlzZSgocmVzb2x2ZSkgPT4gewogICAgY2FuY2VsLm9uY2xpY2sgPSAoKSA9PiB7CiAgICAgIHJlc29sdmUobnVsbCk7CiAgICB9OwogIH0pOwoKICAvLyBXYWl0IGZvciB0aGUgdXNlciB0byBwaWNrIHRoZSBmaWxlcy4KICBjb25zdCBmaWxlcyA9IHlpZWxkIHsKICAgIHByb21pc2U6IFByb21pc2UucmFjZShbcGlja2VkUHJvbWlzZSwgY2FuY2VsUHJvbWlzZV0pLAogICAgcmVzcG9uc2U6IHsKICAgICAgYWN0aW9uOiAnc3RhcnRpbmcnLAogICAgfQogIH07CgogIGNhbmNlbC5yZW1vdmUoKTsKCiAgLy8gRGlzYWJsZSB0aGUgaW5wdXQgZWxlbWVudCBzaW5jZSBmdXJ0aGVyIHBpY2tzIGFyZSBub3QgYWxsb3dlZC4KICBpbnB1dEVsZW1lbnQuZGlzYWJsZWQgPSB0cnVlOwoKICBpZiAoIWZpbGVzKSB7CiAgICByZXR1cm4gewogICAgICByZXNwb25zZTogewogICAgICAgIGFjdGlvbjogJ2NvbXBsZXRlJywKICAgICAgfQogICAgfTsKICB9CgogIGZvciAoY29uc3QgZmlsZSBvZiBmaWxlcykgewogICAgY29uc3QgbGkgPSBkb2N1bWVudC5jcmVhdGVFbGVtZW50KCdsaScpOwogICAgbGkuYXBwZW5kKHNwYW4oZmlsZS5uYW1lLCB7Zm9udFdlaWdodDogJ2JvbGQnfSkpOwogICAgbGkuYXBwZW5kKHNwYW4oCiAgICAgICAgYCgke2ZpbGUudHlwZSB8fCAnbi9hJ30pIC0gJHtmaWxlLnNpemV9IGJ5dGVzLCBgICsKICAgICAgICBgbGFzdCBtb2RpZmllZDogJHsKICAgICAgICAgICAgZmlsZS5sYXN0TW9kaWZpZWREYXRlID8gZmlsZS5sYXN0TW9kaWZpZWREYXRlLnRvTG9jYWxlRGF0ZVN0cmluZygpIDoKICAgICAgICAgICAgICAgICAgICAgICAgICAgICAgICAgICAgJ24vYSd9IC0gYCkpOwogICAgY29uc3QgcGVyY2VudCA9IHNwYW4oJzAlIGRvbmUnKTsKICAgIGxpLmFwcGVuZENoaWxkKHBlcmNlbnQpOwoKICAgIG91dHB1dEVsZW1lbnQuYXBwZW5kQ2hpbGQobGkpOwoKICAgIGNvbnN0IGZpbGVEYXRhUHJvbWlzZSA9IG5ldyBQcm9taXNlKChyZXNvbHZlKSA9PiB7CiAgICAgIGNvbnN0IHJlYWRlciA9IG5ldyBGaWxlUmVhZGVyKCk7CiAgICAgIHJlYWRlci5vbmxvYWQgPSAoZSkgPT4gewogICAgICAgIHJlc29sdmUoZS50YXJnZXQucmVzdWx0KTsKICAgICAgfTsKICAgICAgcmVhZGVyLnJlYWRBc0FycmF5QnVmZmVyKGZpbGUpOwogICAgfSk7CiAgICAvLyBXYWl0IGZvciB0aGUgZGF0YSB0byBiZSByZWFkeS4KICAgIGxldCBmaWxlRGF0YSA9IHlpZWxkIHsKICAgICAgcHJvbWlzZTogZmlsZURhdGFQcm9taXNlLAogICAgICByZXNwb25zZTogewogICAgICAgIGFjdGlvbjogJ2NvbnRpbnVlJywKICAgICAgfQogICAgfTsKCiAgICAvLyBVc2UgYSBjaHVua2VkIHNlbmRpbmcgdG8gYXZvaWQgbWVzc2FnZSBzaXplIGxpbWl0cy4gU2VlIGIvNjIxMTU2NjAuCiAgICBsZXQgcG9zaXRpb24gPSAwOwogICAgZG8gewogICAgICBjb25zdCBsZW5ndGggPSBNYXRoLm1pbihmaWxlRGF0YS5ieXRlTGVuZ3RoIC0gcG9zaXRpb24sIE1BWF9QQVlMT0FEX1NJWkUpOwogICAgICBjb25zdCBjaHVuayA9IG5ldyBVaW50OEFycmF5KGZpbGVEYXRhLCBwb3NpdGlvbiwgbGVuZ3RoKTsKICAgICAgcG9zaXRpb24gKz0gbGVuZ3RoOwoKICAgICAgY29uc3QgYmFzZTY0ID0gYnRvYShTdHJpbmcuZnJvbUNoYXJDb2RlLmFwcGx5KG51bGwsIGNodW5rKSk7CiAgICAgIHlpZWxkIHsKICAgICAgICByZXNwb25zZTogewogICAgICAgICAgYWN0aW9uOiAnYXBwZW5kJywKICAgICAgICAgIGZpbGU6IGZpbGUubmFtZSwKICAgICAgICAgIGRhdGE6IGJhc2U2NCwKICAgICAgICB9LAogICAgICB9OwoKICAgICAgbGV0IHBlcmNlbnREb25lID0gZmlsZURhdGEuYnl0ZUxlbmd0aCA9PT0gMCA/CiAgICAgICAgICAxMDAgOgogICAgICAgICAgTWF0aC5yb3VuZCgocG9zaXRpb24gLyBmaWxlRGF0YS5ieXRlTGVuZ3RoKSAqIDEwMCk7CiAgICAgIHBlcmNlbnQudGV4dENvbnRlbnQgPSBgJHtwZXJjZW50RG9uZX0lIGRvbmVgOwoKICAgIH0gd2hpbGUgKHBvc2l0aW9uIDwgZmlsZURhdGEuYnl0ZUxlbmd0aCk7CiAgfQoKICAvLyBBbGwgZG9uZS4KICB5aWVsZCB7CiAgICByZXNwb25zZTogewogICAgICBhY3Rpb246ICdjb21wbGV0ZScsCiAgICB9CiAgfTsKfQoKc2NvcGUuZ29vZ2xlID0gc2NvcGUuZ29vZ2xlIHx8IHt9OwpzY29wZS5nb29nbGUuY29sYWIgPSBzY29wZS5nb29nbGUuY29sYWIgfHwge307CnNjb3BlLmdvb2dsZS5jb2xhYi5fZmlsZXMgPSB7CiAgX3VwbG9hZEZpbGVzLAogIF91cGxvYWRGaWxlc0NvbnRpbnVlLAp9Owp9KShzZWxmKTsK",
              "ok": true,
              "headers": [
                [
                  "content-type",
                  "application/javascript"
                ]
              ],
              "status": 200,
              "status_text": ""
            }
          },
          "base_uri": "https://localhost:8080/",
          "height": 86
        },
        "id": "3hFfcv2mJTJQ",
        "outputId": "0aef3721-6627-414a-fed3-10b6dfd032a2"
      },
      "source": [
        "#Upload Json Kaggle\n",
        "from google.colab import files\n",
        "files.upload()"
      ],
      "execution_count": null,
      "outputs": [
        {
          "output_type": "display_data",
          "data": {
            "text/html": [
              "\n",
              "     <input type=\"file\" id=\"files-6905286b-d91a-4aa1-99e7-dfd040dd4bd4\" name=\"files[]\" multiple disabled\n",
              "        style=\"border:none\" />\n",
              "     <output id=\"result-6905286b-d91a-4aa1-99e7-dfd040dd4bd4\">\n",
              "      Upload widget is only available when the cell has been executed in the\n",
              "      current browser session. Please rerun this cell to enable.\n",
              "      </output>\n",
              "      <script src=\"/nbextensions/google.colab/files.js\"></script> "
            ],
            "text/plain": [
              "<IPython.core.display.HTML object>"
            ]
          },
          "metadata": {
            "tags": []
          }
        },
        {
          "output_type": "stream",
          "text": [
            "Saving kaggle.json to kaggle.json\n"
          ],
          "name": "stdout"
        },
        {
          "output_type": "execute_result",
          "data": {
            "text/plain": [
              "{'kaggle.json': b'{\"username\":\"mohchannabeck\",\"key\":\"5d211cbe07a6144bdf25273703ebce86\"}'}"
            ]
          },
          "metadata": {
            "tags": []
          },
          "execution_count": 2
        }
      ]
    },
    {
      "cell_type": "code",
      "metadata": {
        "id": "MVKnmaDJKNI3",
        "colab": {
          "base_uri": "https://localhost:8080/"
        },
        "outputId": "b6a0b7f7-b44c-451d-c995-e05d8325160f"
      },
      "source": [
        "!mkdir ~/.kaggle\n",
        "!mv ./kaggle.json ~/.kaggle/\n",
        "!chmod 600 ~/.kaggle/kaggle.json\n",
        "!ls ~/.kaggle"
      ],
      "execution_count": null,
      "outputs": [
        {
          "output_type": "stream",
          "text": [
            "kaggle.json\n"
          ],
          "name": "stdout"
        }
      ]
    },
    {
      "cell_type": "code",
      "metadata": {
        "id": "Spf0NgSOwIii",
        "colab": {
          "base_uri": "https://localhost:8080/"
        },
        "outputId": "645152ce-7f1c-4859-f2d0-ff6349d3dd98"
      },
      "source": [
        "#Download Dataset dari Kaggle\n",
        "!kaggle datasets download -d team-ai/bitcoin-price-prediction"
      ],
      "execution_count": null,
      "outputs": [
        {
          "output_type": "stream",
          "text": [
            "Downloading bitcoin-price-prediction.zip to /content\n",
            "\r  0% 0.00/37.6k [00:00<?, ?B/s]\n",
            "\r100% 37.6k/37.6k [00:00<00:00, 14.3MB/s]\n"
          ],
          "name": "stdout"
        }
      ]
    },
    {
      "cell_type": "markdown",
      "metadata": {
        "id": "RK0alcwrDBqo"
      },
      "source": [
        "**2. Unzip File**"
      ]
    },
    {
      "cell_type": "code",
      "metadata": {
        "id": "vUrcQ9bLxefQ",
        "colab": {
          "base_uri": "https://localhost:8080/"
        },
        "outputId": "d53c35bf-6e73-4016-903d-d7252d5f680e"
      },
      "source": [
        "#Unzip File\n",
        "!mkdir bitcoin-price-prediction\n",
        "!unzip bitcoin-price-prediction.zip -d bitcoin-price-prediction\n",
        "!ls bitcoin-price-prediction"
      ],
      "execution_count": null,
      "outputs": [
        {
          "output_type": "stream",
          "text": [
            "Archive:  bitcoin-price-prediction.zip\n",
            "  inflating: bitcoin-price-prediction/bitcoin_price_1week_Test - Test.csv  \n",
            "  inflating: bitcoin-price-prediction/bitcoin_price_Training - Training.csv  \n",
            "'bitcoin_price_1week_Test - Test.csv'  'bitcoin_price_Training - Training.csv'\n"
          ],
          "name": "stdout"
        }
      ]
    },
    {
      "cell_type": "markdown",
      "metadata": {
        "id": "nuAsXgKlDQDv"
      },
      "source": [
        "**3. Import Library**"
      ]
    },
    {
      "cell_type": "code",
      "metadata": {
        "id": "N6GsmTejxxne"
      },
      "source": [
        "import numpy as np\n",
        "import pandas as pd\n",
        "import tensorflow as tf\n",
        "from keras.layers.core import Dense, Activation\n",
        "from keras.layers.recurrent import LSTM\n",
        "from keras.preprocessing.sequence import TimeseriesGenerator\n",
        "from keras.models import Sequential\n",
        "from sklearn.model_selection import  train_test_split\n",
        "from sklearn.preprocessing import MinMaxScaler\n",
        "import matplotlib.pyplot as plt\n",
        "\n"
      ],
      "execution_count": null,
      "outputs": []
    },
    {
      "cell_type": "markdown",
      "metadata": {
        "id": "olhqaBR5DURg"
      },
      "source": [
        "**4. Read Dataset**"
      ]
    },
    {
      "cell_type": "code",
      "metadata": {
        "id": "UMcpL26nlFom"
      },
      "source": [
        "df = pd.read_csv('bitcoin-price-prediction/bitcoin_price_Training - Training.csv')"
      ],
      "execution_count": null,
      "outputs": []
    },
    {
      "cell_type": "code",
      "metadata": {
        "id": "pRYKfVU6jwUq",
        "colab": {
          "base_uri": "https://localhost:8080/",
          "height": 408
        },
        "outputId": "d3ecfadc-92bc-4f76-cf92-89d7a1e89783"
      },
      "source": [
        "df"
      ],
      "execution_count": null,
      "outputs": [
        {
          "output_type": "execute_result",
          "data": {
            "text/html": [
              "<div>\n",
              "<style scoped>\n",
              "    .dataframe tbody tr th:only-of-type {\n",
              "        vertical-align: middle;\n",
              "    }\n",
              "\n",
              "    .dataframe tbody tr th {\n",
              "        vertical-align: top;\n",
              "    }\n",
              "\n",
              "    .dataframe thead th {\n",
              "        text-align: right;\n",
              "    }\n",
              "</style>\n",
              "<table border=\"1\" class=\"dataframe\">\n",
              "  <thead>\n",
              "    <tr style=\"text-align: right;\">\n",
              "      <th></th>\n",
              "      <th>Date</th>\n",
              "      <th>Open</th>\n",
              "      <th>High</th>\n",
              "      <th>Low</th>\n",
              "      <th>Close</th>\n",
              "      <th>Volume</th>\n",
              "      <th>Market Cap</th>\n",
              "    </tr>\n",
              "  </thead>\n",
              "  <tbody>\n",
              "    <tr>\n",
              "      <th>0</th>\n",
              "      <td>Jul 31, 2017</td>\n",
              "      <td>2763.24</td>\n",
              "      <td>2889.62</td>\n",
              "      <td>2720.61</td>\n",
              "      <td>2875.34</td>\n",
              "      <td>860,575,000</td>\n",
              "      <td>45,535,800,000</td>\n",
              "    </tr>\n",
              "    <tr>\n",
              "      <th>1</th>\n",
              "      <td>Jul 30, 2017</td>\n",
              "      <td>2724.39</td>\n",
              "      <td>2758.53</td>\n",
              "      <td>2644.85</td>\n",
              "      <td>2757.18</td>\n",
              "      <td>705,943,000</td>\n",
              "      <td>44,890,700,000</td>\n",
              "    </tr>\n",
              "    <tr>\n",
              "      <th>2</th>\n",
              "      <td>Jul 29, 2017</td>\n",
              "      <td>2807.02</td>\n",
              "      <td>2808.76</td>\n",
              "      <td>2692.80</td>\n",
              "      <td>2726.45</td>\n",
              "      <td>803,746,000</td>\n",
              "      <td>46,246,700,000</td>\n",
              "    </tr>\n",
              "    <tr>\n",
              "      <th>3</th>\n",
              "      <td>Jul 28, 2017</td>\n",
              "      <td>2679.73</td>\n",
              "      <td>2897.45</td>\n",
              "      <td>2679.73</td>\n",
              "      <td>2809.01</td>\n",
              "      <td>1,380,100,000</td>\n",
              "      <td>44,144,400,000</td>\n",
              "    </tr>\n",
              "    <tr>\n",
              "      <th>4</th>\n",
              "      <td>Jul 27, 2017</td>\n",
              "      <td>2538.71</td>\n",
              "      <td>2693.32</td>\n",
              "      <td>2529.34</td>\n",
              "      <td>2671.78</td>\n",
              "      <td>789,104,000</td>\n",
              "      <td>41,816,500,000</td>\n",
              "    </tr>\n",
              "    <tr>\n",
              "      <th>...</th>\n",
              "      <td>...</td>\n",
              "      <td>...</td>\n",
              "      <td>...</td>\n",
              "      <td>...</td>\n",
              "      <td>...</td>\n",
              "      <td>...</td>\n",
              "      <td>...</td>\n",
              "    </tr>\n",
              "    <tr>\n",
              "      <th>1551</th>\n",
              "      <td>May 02, 2013</td>\n",
              "      <td>116.38</td>\n",
              "      <td>125.60</td>\n",
              "      <td>92.28</td>\n",
              "      <td>105.21</td>\n",
              "      <td>-</td>\n",
              "      <td>1,292,190,000</td>\n",
              "    </tr>\n",
              "    <tr>\n",
              "      <th>1552</th>\n",
              "      <td>May 01, 2013</td>\n",
              "      <td>139.00</td>\n",
              "      <td>139.89</td>\n",
              "      <td>107.72</td>\n",
              "      <td>116.99</td>\n",
              "      <td>-</td>\n",
              "      <td>1,542,820,000</td>\n",
              "    </tr>\n",
              "    <tr>\n",
              "      <th>1553</th>\n",
              "      <td>Apr 30, 2013</td>\n",
              "      <td>144.00</td>\n",
              "      <td>146.93</td>\n",
              "      <td>134.05</td>\n",
              "      <td>139.00</td>\n",
              "      <td>-</td>\n",
              "      <td>1,597,780,000</td>\n",
              "    </tr>\n",
              "    <tr>\n",
              "      <th>1554</th>\n",
              "      <td>Apr 29, 2013</td>\n",
              "      <td>134.44</td>\n",
              "      <td>147.49</td>\n",
              "      <td>134.00</td>\n",
              "      <td>144.54</td>\n",
              "      <td>-</td>\n",
              "      <td>1,491,160,000</td>\n",
              "    </tr>\n",
              "    <tr>\n",
              "      <th>1555</th>\n",
              "      <td>Apr 28, 2013</td>\n",
              "      <td>135.30</td>\n",
              "      <td>135.98</td>\n",
              "      <td>132.10</td>\n",
              "      <td>134.21</td>\n",
              "      <td>-</td>\n",
              "      <td>1,500,520,000</td>\n",
              "    </tr>\n",
              "  </tbody>\n",
              "</table>\n",
              "<p>1556 rows × 7 columns</p>\n",
              "</div>"
            ],
            "text/plain": [
              "              Date     Open     High  ...    Close         Volume      Market Cap\n",
              "0     Jul 31, 2017  2763.24  2889.62  ...  2875.34    860,575,000  45,535,800,000\n",
              "1     Jul 30, 2017  2724.39  2758.53  ...  2757.18    705,943,000  44,890,700,000\n",
              "2     Jul 29, 2017  2807.02  2808.76  ...  2726.45    803,746,000  46,246,700,000\n",
              "3     Jul 28, 2017  2679.73  2897.45  ...  2809.01  1,380,100,000  44,144,400,000\n",
              "4     Jul 27, 2017  2538.71  2693.32  ...  2671.78    789,104,000  41,816,500,000\n",
              "...            ...      ...      ...  ...      ...            ...             ...\n",
              "1551  May 02, 2013   116.38   125.60  ...   105.21              -   1,292,190,000\n",
              "1552  May 01, 2013   139.00   139.89  ...   116.99              -   1,542,820,000\n",
              "1553  Apr 30, 2013   144.00   146.93  ...   139.00              -   1,597,780,000\n",
              "1554  Apr 29, 2013   134.44   147.49  ...   144.54              -   1,491,160,000\n",
              "1555  Apr 28, 2013   135.30   135.98  ...   134.21              -   1,500,520,000\n",
              "\n",
              "[1556 rows x 7 columns]"
            ]
          },
          "metadata": {
            "tags": []
          },
          "execution_count": 47
        }
      ]
    },
    {
      "cell_type": "code",
      "metadata": {
        "id": "7HiA9FfU48K9"
      },
      "source": [
        "df['Date'] = pd.to_datetime(df.Date)\n",
        "df = df.sort_values(by=['Date'])"
      ],
      "execution_count": null,
      "outputs": []
    },
    {
      "cell_type": "markdown",
      "metadata": {
        "id": "JiAtk0JA2P8I"
      },
      "source": [
        "**Mengecek Date(Timestamp) apakah memiliki data harian non-holiday lengkap?**"
      ]
    },
    {
      "cell_type": "code",
      "metadata": {
        "colab": {
          "base_uri": "https://localhost:8080/",
          "height": 408
        },
        "id": "NxKLLBXQz9Ko",
        "outputId": "0e41a410-fddd-4864-9958-e4588315273b"
      },
      "source": [
        "from pandas.tseries.holiday import USFederalHolidayCalendar as calendar\n",
        "\n",
        "dr = pd.date_range(start='2013-04-28', end='2017-07-31')\n",
        "df_h = pd.DataFrame()\n",
        "df_h['Date'] = dr\n",
        "\n",
        "cal = calendar()\n",
        "holidays = cal.holidays(start=dr.min(), end=dr.max())\n",
        "\n",
        "df_h['Holiday'] = df_h['Date'].isin(holidays)\n",
        "df_h"
      ],
      "execution_count": null,
      "outputs": [
        {
          "output_type": "execute_result",
          "data": {
            "text/html": [
              "<div>\n",
              "<style scoped>\n",
              "    .dataframe tbody tr th:only-of-type {\n",
              "        vertical-align: middle;\n",
              "    }\n",
              "\n",
              "    .dataframe tbody tr th {\n",
              "        vertical-align: top;\n",
              "    }\n",
              "\n",
              "    .dataframe thead th {\n",
              "        text-align: right;\n",
              "    }\n",
              "</style>\n",
              "<table border=\"1\" class=\"dataframe\">\n",
              "  <thead>\n",
              "    <tr style=\"text-align: right;\">\n",
              "      <th></th>\n",
              "      <th>Date</th>\n",
              "      <th>Holiday</th>\n",
              "    </tr>\n",
              "  </thead>\n",
              "  <tbody>\n",
              "    <tr>\n",
              "      <th>0</th>\n",
              "      <td>2013-04-28</td>\n",
              "      <td>False</td>\n",
              "    </tr>\n",
              "    <tr>\n",
              "      <th>1</th>\n",
              "      <td>2013-04-29</td>\n",
              "      <td>False</td>\n",
              "    </tr>\n",
              "    <tr>\n",
              "      <th>2</th>\n",
              "      <td>2013-04-30</td>\n",
              "      <td>False</td>\n",
              "    </tr>\n",
              "    <tr>\n",
              "      <th>3</th>\n",
              "      <td>2013-05-01</td>\n",
              "      <td>False</td>\n",
              "    </tr>\n",
              "    <tr>\n",
              "      <th>4</th>\n",
              "      <td>2013-05-02</td>\n",
              "      <td>False</td>\n",
              "    </tr>\n",
              "    <tr>\n",
              "      <th>...</th>\n",
              "      <td>...</td>\n",
              "      <td>...</td>\n",
              "    </tr>\n",
              "    <tr>\n",
              "      <th>1551</th>\n",
              "      <td>2017-07-27</td>\n",
              "      <td>False</td>\n",
              "    </tr>\n",
              "    <tr>\n",
              "      <th>1552</th>\n",
              "      <td>2017-07-28</td>\n",
              "      <td>False</td>\n",
              "    </tr>\n",
              "    <tr>\n",
              "      <th>1553</th>\n",
              "      <td>2017-07-29</td>\n",
              "      <td>False</td>\n",
              "    </tr>\n",
              "    <tr>\n",
              "      <th>1554</th>\n",
              "      <td>2017-07-30</td>\n",
              "      <td>False</td>\n",
              "    </tr>\n",
              "    <tr>\n",
              "      <th>1555</th>\n",
              "      <td>2017-07-31</td>\n",
              "      <td>False</td>\n",
              "    </tr>\n",
              "  </tbody>\n",
              "</table>\n",
              "<p>1556 rows × 2 columns</p>\n",
              "</div>"
            ],
            "text/plain": [
              "           Date  Holiday\n",
              "0    2013-04-28    False\n",
              "1    2013-04-29    False\n",
              "2    2013-04-30    False\n",
              "3    2013-05-01    False\n",
              "4    2013-05-02    False\n",
              "...         ...      ...\n",
              "1551 2017-07-27    False\n",
              "1552 2017-07-28    False\n",
              "1553 2017-07-29    False\n",
              "1554 2017-07-30    False\n",
              "1555 2017-07-31    False\n",
              "\n",
              "[1556 rows x 2 columns]"
            ]
          },
          "metadata": {
            "tags": []
          },
          "execution_count": 49
        }
      ]
    },
    {
      "cell_type": "markdown",
      "metadata": {
        "id": "JJ0Wl4nD2sWw"
      },
      "source": [
        "Disini terlihat bahwa jumlah baris yang pada dataset bitcoin (dataset yang dipakai) sama dengan jumlah hari (non-holiday+holiday) kalendar yaitu 1556 baris.\n",
        "\n",
        "Perlu diketahui juga bitcoin tidak memiliki hari libur trading, jadi data ini sudah lengkap dan ordered"
      ]
    },
    {
      "cell_type": "markdown",
      "metadata": {
        "id": "gZCZ09elDYkM"
      },
      "source": [
        "**5. Cek Null, Set Index dan Drop Column yang tidak perlu**"
      ]
    },
    {
      "cell_type": "code",
      "metadata": {
        "colab": {
          "base_uri": "https://localhost:8080/"
        },
        "id": "B2ozTN5y9pN2",
        "outputId": "42e50374-198c-4b47-9584-e46a955929e3"
      },
      "source": [
        "df.isnull().sum()"
      ],
      "execution_count": null,
      "outputs": [
        {
          "output_type": "execute_result",
          "data": {
            "text/plain": [
              "Date          0\n",
              "Open          0\n",
              "High          0\n",
              "Low           0\n",
              "Close         0\n",
              "Volume        0\n",
              "Market Cap    0\n",
              "dtype: int64"
            ]
          },
          "metadata": {
            "tags": []
          },
          "execution_count": 11
        }
      ]
    },
    {
      "cell_type": "markdown",
      "metadata": {
        "id": "4W8RebYK3YKG"
      },
      "source": [
        "Disini Dataset tidak memiliki missing value "
      ]
    },
    {
      "cell_type": "code",
      "metadata": {
        "id": "OQnNT4AHmmen"
      },
      "source": [
        "df = df.set_index('Date')"
      ],
      "execution_count": null,
      "outputs": []
    },
    {
      "cell_type": "code",
      "metadata": {
        "colab": {
          "base_uri": "https://localhost:8080/",
          "height": 230
        },
        "id": "TGpTigsN-ZMn",
        "outputId": "255e51e1-d295-4e86-ef09-aa46ffeeca64"
      },
      "source": [
        "df.head()"
      ],
      "execution_count": null,
      "outputs": [
        {
          "output_type": "execute_result",
          "data": {
            "text/html": [
              "<div>\n",
              "<style scoped>\n",
              "    .dataframe tbody tr th:only-of-type {\n",
              "        vertical-align: middle;\n",
              "    }\n",
              "\n",
              "    .dataframe tbody tr th {\n",
              "        vertical-align: top;\n",
              "    }\n",
              "\n",
              "    .dataframe thead th {\n",
              "        text-align: right;\n",
              "    }\n",
              "</style>\n",
              "<table border=\"1\" class=\"dataframe\">\n",
              "  <thead>\n",
              "    <tr style=\"text-align: right;\">\n",
              "      <th></th>\n",
              "      <th>Open</th>\n",
              "      <th>High</th>\n",
              "      <th>Low</th>\n",
              "      <th>Close</th>\n",
              "      <th>Volume</th>\n",
              "      <th>Market Cap</th>\n",
              "    </tr>\n",
              "    <tr>\n",
              "      <th>Date</th>\n",
              "      <th></th>\n",
              "      <th></th>\n",
              "      <th></th>\n",
              "      <th></th>\n",
              "      <th></th>\n",
              "      <th></th>\n",
              "    </tr>\n",
              "  </thead>\n",
              "  <tbody>\n",
              "    <tr>\n",
              "      <th>2013-04-28</th>\n",
              "      <td>135.30</td>\n",
              "      <td>135.98</td>\n",
              "      <td>132.10</td>\n",
              "      <td>134.21</td>\n",
              "      <td>-</td>\n",
              "      <td>1,500,520,000</td>\n",
              "    </tr>\n",
              "    <tr>\n",
              "      <th>2013-04-29</th>\n",
              "      <td>134.44</td>\n",
              "      <td>147.49</td>\n",
              "      <td>134.00</td>\n",
              "      <td>144.54</td>\n",
              "      <td>-</td>\n",
              "      <td>1,491,160,000</td>\n",
              "    </tr>\n",
              "    <tr>\n",
              "      <th>2013-04-30</th>\n",
              "      <td>144.00</td>\n",
              "      <td>146.93</td>\n",
              "      <td>134.05</td>\n",
              "      <td>139.00</td>\n",
              "      <td>-</td>\n",
              "      <td>1,597,780,000</td>\n",
              "    </tr>\n",
              "    <tr>\n",
              "      <th>2013-05-01</th>\n",
              "      <td>139.00</td>\n",
              "      <td>139.89</td>\n",
              "      <td>107.72</td>\n",
              "      <td>116.99</td>\n",
              "      <td>-</td>\n",
              "      <td>1,542,820,000</td>\n",
              "    </tr>\n",
              "    <tr>\n",
              "      <th>2013-05-02</th>\n",
              "      <td>116.38</td>\n",
              "      <td>125.60</td>\n",
              "      <td>92.28</td>\n",
              "      <td>105.21</td>\n",
              "      <td>-</td>\n",
              "      <td>1,292,190,000</td>\n",
              "    </tr>\n",
              "  </tbody>\n",
              "</table>\n",
              "</div>"
            ],
            "text/plain": [
              "              Open    High     Low   Close Volume     Market Cap\n",
              "Date                                                            \n",
              "2013-04-28  135.30  135.98  132.10  134.21      -  1,500,520,000\n",
              "2013-04-29  134.44  147.49  134.00  144.54      -  1,491,160,000\n",
              "2013-04-30  144.00  146.93  134.05  139.00      -  1,597,780,000\n",
              "2013-05-01  139.00  139.89  107.72  116.99      -  1,542,820,000\n",
              "2013-05-02  116.38  125.60   92.28  105.21      -  1,292,190,000"
            ]
          },
          "metadata": {
            "tags": []
          },
          "execution_count": 51
        }
      ]
    },
    {
      "cell_type": "code",
      "metadata": {
        "id": "2beSvWy3BkuU"
      },
      "source": [
        "df = df.drop(['Open'], axis = 1)\n",
        "df = df.drop(['High'], axis = 1)\n",
        "df = df.drop(['Volume'], axis = 1)\n",
        "df = df.drop(['Low'], axis = 1)\n",
        "df = df.drop(['Market Cap'], axis = 1)"
      ],
      "execution_count": null,
      "outputs": []
    },
    {
      "cell_type": "code",
      "metadata": {
        "colab": {
          "base_uri": "https://localhost:8080/",
          "height": 440
        },
        "id": "IUKSh_raB9O3",
        "outputId": "5da1bf46-1998-4761-ea97-29cf10112308"
      },
      "source": [
        "df"
      ],
      "execution_count": null,
      "outputs": [
        {
          "output_type": "execute_result",
          "data": {
            "text/html": [
              "<div>\n",
              "<style scoped>\n",
              "    .dataframe tbody tr th:only-of-type {\n",
              "        vertical-align: middle;\n",
              "    }\n",
              "\n",
              "    .dataframe tbody tr th {\n",
              "        vertical-align: top;\n",
              "    }\n",
              "\n",
              "    .dataframe thead th {\n",
              "        text-align: right;\n",
              "    }\n",
              "</style>\n",
              "<table border=\"1\" class=\"dataframe\">\n",
              "  <thead>\n",
              "    <tr style=\"text-align: right;\">\n",
              "      <th></th>\n",
              "      <th>Close</th>\n",
              "    </tr>\n",
              "    <tr>\n",
              "      <th>Date</th>\n",
              "      <th></th>\n",
              "    </tr>\n",
              "  </thead>\n",
              "  <tbody>\n",
              "    <tr>\n",
              "      <th>2013-04-28</th>\n",
              "      <td>134.21</td>\n",
              "    </tr>\n",
              "    <tr>\n",
              "      <th>2013-04-29</th>\n",
              "      <td>144.54</td>\n",
              "    </tr>\n",
              "    <tr>\n",
              "      <th>2013-04-30</th>\n",
              "      <td>139.00</td>\n",
              "    </tr>\n",
              "    <tr>\n",
              "      <th>2013-05-01</th>\n",
              "      <td>116.99</td>\n",
              "    </tr>\n",
              "    <tr>\n",
              "      <th>2013-05-02</th>\n",
              "      <td>105.21</td>\n",
              "    </tr>\n",
              "    <tr>\n",
              "      <th>...</th>\n",
              "      <td>...</td>\n",
              "    </tr>\n",
              "    <tr>\n",
              "      <th>2017-07-27</th>\n",
              "      <td>2671.78</td>\n",
              "    </tr>\n",
              "    <tr>\n",
              "      <th>2017-07-28</th>\n",
              "      <td>2809.01</td>\n",
              "    </tr>\n",
              "    <tr>\n",
              "      <th>2017-07-29</th>\n",
              "      <td>2726.45</td>\n",
              "    </tr>\n",
              "    <tr>\n",
              "      <th>2017-07-30</th>\n",
              "      <td>2757.18</td>\n",
              "    </tr>\n",
              "    <tr>\n",
              "      <th>2017-07-31</th>\n",
              "      <td>2875.34</td>\n",
              "    </tr>\n",
              "  </tbody>\n",
              "</table>\n",
              "<p>1556 rows × 1 columns</p>\n",
              "</div>"
            ],
            "text/plain": [
              "              Close\n",
              "Date               \n",
              "2013-04-28   134.21\n",
              "2013-04-29   144.54\n",
              "2013-04-30   139.00\n",
              "2013-05-01   116.99\n",
              "2013-05-02   105.21\n",
              "...             ...\n",
              "2017-07-27  2671.78\n",
              "2017-07-28  2809.01\n",
              "2017-07-29  2726.45\n",
              "2017-07-30  2757.18\n",
              "2017-07-31  2875.34\n",
              "\n",
              "[1556 rows x 1 columns]"
            ]
          },
          "metadata": {
            "tags": []
          },
          "execution_count": 53
        }
      ]
    },
    {
      "cell_type": "markdown",
      "metadata": {
        "id": "S_efTYKfHjLu"
      },
      "source": [
        "**Membagi Train dan Validation Data (80% : 20%)**"
      ]
    },
    {
      "cell_type": "code",
      "metadata": {
        "id": "ynQEYQcv6pJf"
      },
      "source": [
        "test_size = 0.20\n",
        "data_train, data_val = train_test_split(df.values, test_size=test_size, shuffle=False)"
      ],
      "execution_count": null,
      "outputs": []
    },
    {
      "cell_type": "code",
      "metadata": {
        "id": "cdhAoso59ZVP"
      },
      "source": [
        "scaler = MinMaxScaler()\n",
        "data_train = scaler.fit_transform(data_train.reshape(-1, 1))\n",
        "data_val = scaler.fit_transform(data_val.reshape(-1, 1))"
      ],
      "execution_count": null,
      "outputs": []
    },
    {
      "cell_type": "code",
      "metadata": {
        "id": "8EIhN0TEBTFf"
      },
      "source": [
        "split=int((1-test_size)*len(df))\n",
        "\n",
        "date_train = df.index[:split]\n",
        "date_test = df.index[split:]"
      ],
      "execution_count": null,
      "outputs": []
    },
    {
      "cell_type": "code",
      "metadata": {
        "id": "YsqPoYAU9dxD"
      },
      "source": [
        "look_back = 20\n",
        "data_train = tf.keras.preprocessing.sequence.TimeseriesGenerator(data_train, data_train, length=look_back, batch_size=20)     \n",
        "data_val = tf.keras.preprocessing.sequence.TimeseriesGenerator(data_val, data_val, length=look_back, batch_size=1)"
      ],
      "execution_count": null,
      "outputs": []
    },
    {
      "cell_type": "markdown",
      "metadata": {
        "id": "ukYIyS3fIIAk"
      },
      "source": [
        "Menggunakan Model Sequential + LSTM"
      ]
    },
    {
      "cell_type": "code",
      "metadata": {
        "id": "2mweupSGrYQF"
      },
      "source": [
        "model = tf.keras.models.Sequential([\n",
        "  tf.keras.layers.LSTM(60, return_sequences=True, input_shape=(look_back, 1)),\n",
        "  tf.keras.layers.LSTM(60),\n",
        "  tf.keras.layers.Dense(30, activation=\"relu\"),\n",
        "  tf.keras.layers.Dense(10, activation=\"relu\"),\n",
        "  tf.keras.layers.Dense(1),\n",
        "])"
      ],
      "execution_count": null,
      "outputs": []
    },
    {
      "cell_type": "code",
      "metadata": {
        "colab": {
          "base_uri": "https://localhost:8080/"
        },
        "id": "bkhLELa7-_We",
        "outputId": "4a1f0e85-70be-4026-8991-dbb71006c693"
      },
      "source": [
        "model.summary()"
      ],
      "execution_count": null,
      "outputs": [
        {
          "output_type": "stream",
          "text": [
            "Model: \"sequential\"\n",
            "_________________________________________________________________\n",
            "Layer (type)                 Output Shape              Param #   \n",
            "=================================================================\n",
            "lstm (LSTM)                  (None, 20, 60)            14880     \n",
            "_________________________________________________________________\n",
            "lstm_1 (LSTM)                (None, 60)                29040     \n",
            "_________________________________________________________________\n",
            "dense (Dense)                (None, 30)                1830      \n",
            "_________________________________________________________________\n",
            "dense_1 (Dense)              (None, 10)                310       \n",
            "_________________________________________________________________\n",
            "dense_2 (Dense)              (None, 1)                 11        \n",
            "=================================================================\n",
            "Total params: 46,071\n",
            "Trainable params: 46,071\n",
            "Non-trainable params: 0\n",
            "_________________________________________________________________\n"
          ],
          "name": "stdout"
        }
      ]
    },
    {
      "cell_type": "code",
      "metadata": {
        "colab": {
          "base_uri": "https://localhost:8080/"
        },
        "id": "YFi3ox0x7W6x",
        "outputId": "153a28fb-9f1c-4af6-afd1-4811d18996b1"
      },
      "source": [
        "optimizer = tf.keras.optimizers.SGD(lr=1.0000e-04, momentum=0.9)\n",
        "model.compile(loss=tf.keras.losses.Huber(), optimizer=optimizer, metrics=[\"mae\"])\n",
        "history = model.fit_generator(data_train, validation_data=(data_val), epochs=100, verbose=2)"
      ],
      "execution_count": null,
      "outputs": [
        {
          "output_type": "stream",
          "text": [
            "/usr/local/lib/python3.7/dist-packages/tensorflow/python/keras/optimizer_v2/optimizer_v2.py:375: UserWarning: The `lr` argument is deprecated, use `learning_rate` instead.\n",
            "  \"The `lr` argument is deprecated, use `learning_rate` instead.\")\n",
            "/usr/local/lib/python3.7/dist-packages/tensorflow/python/keras/engine/training.py:1940: UserWarning: `Model.fit_generator` is deprecated and will be removed in a future version. Please use `Model.fit`, which supports generators.\n",
            "  warnings.warn('`Model.fit_generator` is deprecated and '\n"
          ],
          "name": "stderr"
        },
        {
          "output_type": "stream",
          "text": [
            "Epoch 1/100\n",
            "62/62 - 7s - loss: 0.0522 - mae: 0.2708 - val_loss: 0.0772 - val_mae: 0.2768\n",
            "Epoch 2/100\n",
            "62/62 - 2s - loss: 0.0403 - mae: 0.2314 - val_loss: 0.0665 - val_mae: 0.2474\n",
            "Epoch 3/100\n",
            "62/62 - 2s - loss: 0.0326 - mae: 0.2023 - val_loss: 0.0578 - val_mae: 0.2283\n",
            "Epoch 4/100\n",
            "62/62 - 2s - loss: 0.0269 - mae: 0.1801 - val_loss: 0.0523 - val_mae: 0.2163\n",
            "Epoch 5/100\n",
            "62/62 - 2s - loss: 0.0229 - mae: 0.1613 - val_loss: 0.0480 - val_mae: 0.2088\n",
            "Epoch 6/100\n",
            "62/62 - 2s - loss: 0.0201 - mae: 0.1512 - val_loss: 0.0447 - val_mae: 0.2045\n",
            "Epoch 7/100\n",
            "62/62 - 2s - loss: 0.0180 - mae: 0.1448 - val_loss: 0.0424 - val_mae: 0.2026\n",
            "Epoch 8/100\n",
            "62/62 - 2s - loss: 0.0165 - mae: 0.1404 - val_loss: 0.0403 - val_mae: 0.2013\n",
            "Epoch 9/100\n",
            "62/62 - 2s - loss: 0.0153 - mae: 0.1360 - val_loss: 0.0388 - val_mae: 0.1997\n",
            "Epoch 10/100\n",
            "62/62 - 2s - loss: 0.0144 - mae: 0.1325 - val_loss: 0.0375 - val_mae: 0.1987\n",
            "Epoch 11/100\n",
            "62/62 - 2s - loss: 0.0138 - mae: 0.1301 - val_loss: 0.0364 - val_mae: 0.1987\n",
            "Epoch 12/100\n",
            "62/62 - 2s - loss: 0.0132 - mae: 0.1283 - val_loss: 0.0355 - val_mae: 0.1985\n",
            "Epoch 13/100\n",
            "62/62 - 2s - loss: 0.0128 - mae: 0.1265 - val_loss: 0.0348 - val_mae: 0.1988\n",
            "Epoch 14/100\n",
            "62/62 - 2s - loss: 0.0125 - mae: 0.1255 - val_loss: 0.0341 - val_mae: 0.1992\n",
            "Epoch 15/100\n",
            "62/62 - 2s - loss: 0.0123 - mae: 0.1246 - val_loss: 0.0336 - val_mae: 0.1994\n",
            "Epoch 16/100\n",
            "62/62 - 2s - loss: 0.0121 - mae: 0.1238 - val_loss: 0.0332 - val_mae: 0.1993\n",
            "Epoch 17/100\n",
            "62/62 - 2s - loss: 0.0120 - mae: 0.1232 - val_loss: 0.0328 - val_mae: 0.2008\n",
            "Epoch 18/100\n",
            "62/62 - 2s - loss: 0.0118 - mae: 0.1227 - val_loss: 0.0324 - val_mae: 0.2003\n",
            "Epoch 19/100\n",
            "62/62 - 2s - loss: 0.0117 - mae: 0.1222 - val_loss: 0.0321 - val_mae: 0.2002\n",
            "Epoch 20/100\n",
            "62/62 - 2s - loss: 0.0116 - mae: 0.1220 - val_loss: 0.0318 - val_mae: 0.2001\n",
            "Epoch 21/100\n",
            "62/62 - 2s - loss: 0.0115 - mae: 0.1214 - val_loss: 0.0314 - val_mae: 0.1995\n",
            "Epoch 22/100\n",
            "62/62 - 2s - loss: 0.0115 - mae: 0.1211 - val_loss: 0.0312 - val_mae: 0.1995\n",
            "Epoch 23/100\n",
            "62/62 - 2s - loss: 0.0113 - mae: 0.1206 - val_loss: 0.0309 - val_mae: 0.1990\n",
            "Epoch 24/100\n",
            "62/62 - 2s - loss: 0.0112 - mae: 0.1201 - val_loss: 0.0306 - val_mae: 0.1985\n",
            "Epoch 25/100\n",
            "62/62 - 2s - loss: 0.0111 - mae: 0.1198 - val_loss: 0.0304 - val_mae: 0.1971\n",
            "Epoch 26/100\n",
            "62/62 - 2s - loss: 0.0111 - mae: 0.1196 - val_loss: 0.0301 - val_mae: 0.1965\n",
            "Epoch 27/100\n",
            "62/62 - 2s - loss: 0.0110 - mae: 0.1188 - val_loss: 0.0299 - val_mae: 0.1961\n",
            "Epoch 28/100\n",
            "62/62 - 2s - loss: 0.0109 - mae: 0.1185 - val_loss: 0.0296 - val_mae: 0.1956\n",
            "Epoch 29/100\n",
            "62/62 - 2s - loss: 0.0108 - mae: 0.1183 - val_loss: 0.0294 - val_mae: 0.1952\n",
            "Epoch 30/100\n",
            "62/62 - 2s - loss: 0.0107 - mae: 0.1175 - val_loss: 0.0292 - val_mae: 0.1948\n",
            "Epoch 31/100\n",
            "62/62 - 3s - loss: 0.0106 - mae: 0.1171 - val_loss: 0.0290 - val_mae: 0.1935\n",
            "Epoch 32/100\n",
            "62/62 - 2s - loss: 0.0106 - mae: 0.1165 - val_loss: 0.0287 - val_mae: 0.1928\n",
            "Epoch 33/100\n",
            "62/62 - 2s - loss: 0.0105 - mae: 0.1165 - val_loss: 0.0285 - val_mae: 0.1931\n",
            "Epoch 34/100\n",
            "62/62 - 2s - loss: 0.0104 - mae: 0.1159 - val_loss: 0.0283 - val_mae: 0.1919\n",
            "Epoch 35/100\n",
            "62/62 - 2s - loss: 0.0103 - mae: 0.1154 - val_loss: 0.0281 - val_mae: 0.1919\n",
            "Epoch 36/100\n",
            "62/62 - 2s - loss: 0.0103 - mae: 0.1151 - val_loss: 0.0279 - val_mae: 0.1903\n",
            "Epoch 37/100\n",
            "62/62 - 2s - loss: 0.0102 - mae: 0.1146 - val_loss: 0.0277 - val_mae: 0.1897\n",
            "Epoch 38/100\n",
            "62/62 - 2s - loss: 0.0101 - mae: 0.1141 - val_loss: 0.0275 - val_mae: 0.1897\n",
            "Epoch 39/100\n",
            "62/62 - 2s - loss: 0.0101 - mae: 0.1136 - val_loss: 0.0273 - val_mae: 0.1883\n",
            "Epoch 40/100\n",
            "62/62 - 2s - loss: 0.0100 - mae: 0.1131 - val_loss: 0.0271 - val_mae: 0.1879\n",
            "Epoch 41/100\n",
            "62/62 - 2s - loss: 0.0099 - mae: 0.1126 - val_loss: 0.0270 - val_mae: 0.1871\n",
            "Epoch 42/100\n",
            "62/62 - 2s - loss: 0.0098 - mae: 0.1122 - val_loss: 0.0267 - val_mae: 0.1869\n",
            "Epoch 43/100\n",
            "62/62 - 3s - loss: 0.0098 - mae: 0.1118 - val_loss: 0.0266 - val_mae: 0.1860\n",
            "Epoch 44/100\n",
            "62/62 - 2s - loss: 0.0097 - mae: 0.1114 - val_loss: 0.0264 - val_mae: 0.1857\n",
            "Epoch 45/100\n",
            "62/62 - 2s - loss: 0.0096 - mae: 0.1111 - val_loss: 0.0262 - val_mae: 0.1848\n",
            "Epoch 46/100\n",
            "62/62 - 2s - loss: 0.0095 - mae: 0.1103 - val_loss: 0.0260 - val_mae: 0.1830\n",
            "Epoch 47/100\n",
            "62/62 - 2s - loss: 0.0094 - mae: 0.1100 - val_loss: 0.0258 - val_mae: 0.1836\n",
            "Epoch 48/100\n",
            "62/62 - 2s - loss: 0.0093 - mae: 0.1094 - val_loss: 0.0256 - val_mae: 0.1822\n",
            "Epoch 49/100\n",
            "62/62 - 2s - loss: 0.0093 - mae: 0.1089 - val_loss: 0.0254 - val_mae: 0.1817\n",
            "Epoch 50/100\n",
            "62/62 - 2s - loss: 0.0092 - mae: 0.1086 - val_loss: 0.0252 - val_mae: 0.1814\n",
            "Epoch 51/100\n",
            "62/62 - 2s - loss: 0.0091 - mae: 0.1080 - val_loss: 0.0251 - val_mae: 0.1801\n",
            "Epoch 52/100\n",
            "62/62 - 2s - loss: 0.0090 - mae: 0.1075 - val_loss: 0.0249 - val_mae: 0.1796\n",
            "Epoch 53/100\n",
            "62/62 - 2s - loss: 0.0090 - mae: 0.1071 - val_loss: 0.0246 - val_mae: 0.1787\n",
            "Epoch 54/100\n",
            "62/62 - 2s - loss: 0.0089 - mae: 0.1066 - val_loss: 0.0244 - val_mae: 0.1782\n",
            "Epoch 55/100\n",
            "62/62 - 2s - loss: 0.0088 - mae: 0.1062 - val_loss: 0.0242 - val_mae: 0.1766\n",
            "Epoch 56/100\n",
            "62/62 - 2s - loss: 0.0087 - mae: 0.1055 - val_loss: 0.0241 - val_mae: 0.1766\n",
            "Epoch 57/100\n",
            "62/62 - 2s - loss: 0.0087 - mae: 0.1054 - val_loss: 0.0239 - val_mae: 0.1763\n",
            "Epoch 58/100\n",
            "62/62 - 2s - loss: 0.0086 - mae: 0.1045 - val_loss: 0.0237 - val_mae: 0.1743\n",
            "Epoch 59/100\n",
            "62/62 - 2s - loss: 0.0086 - mae: 0.1044 - val_loss: 0.0235 - val_mae: 0.1741\n",
            "Epoch 60/100\n",
            "62/62 - 2s - loss: 0.0085 - mae: 0.1036 - val_loss: 0.0233 - val_mae: 0.1739\n",
            "Epoch 61/100\n",
            "62/62 - 2s - loss: 0.0084 - mae: 0.1030 - val_loss: 0.0231 - val_mae: 0.1720\n",
            "Epoch 62/100\n",
            "62/62 - 2s - loss: 0.0083 - mae: 0.1027 - val_loss: 0.0230 - val_mae: 0.1716\n",
            "Epoch 63/100\n",
            "62/62 - 2s - loss: 0.0082 - mae: 0.1022 - val_loss: 0.0228 - val_mae: 0.1714\n",
            "Epoch 64/100\n",
            "62/62 - 2s - loss: 0.0082 - mae: 0.1016 - val_loss: 0.0226 - val_mae: 0.1699\n",
            "Epoch 65/100\n",
            "62/62 - 2s - loss: 0.0081 - mae: 0.1014 - val_loss: 0.0224 - val_mae: 0.1693\n",
            "Epoch 66/100\n",
            "62/62 - 2s - loss: 0.0080 - mae: 0.1005 - val_loss: 0.0222 - val_mae: 0.1689\n",
            "Epoch 67/100\n",
            "62/62 - 2s - loss: 0.0079 - mae: 0.1000 - val_loss: 0.0220 - val_mae: 0.1679\n",
            "Epoch 68/100\n",
            "62/62 - 2s - loss: 0.0079 - mae: 0.0999 - val_loss: 0.0218 - val_mae: 0.1678\n",
            "Epoch 69/100\n",
            "62/62 - 2s - loss: 0.0078 - mae: 0.0991 - val_loss: 0.0217 - val_mae: 0.1659\n",
            "Epoch 70/100\n",
            "62/62 - 2s - loss: 0.0077 - mae: 0.0986 - val_loss: 0.0215 - val_mae: 0.1660\n",
            "Epoch 71/100\n",
            "62/62 - 2s - loss: 0.0077 - mae: 0.0983 - val_loss: 0.0213 - val_mae: 0.1655\n",
            "Epoch 72/100\n",
            "62/62 - 2s - loss: 0.0076 - mae: 0.0977 - val_loss: 0.0211 - val_mae: 0.1634\n",
            "Epoch 73/100\n",
            "62/62 - 2s - loss: 0.0075 - mae: 0.0970 - val_loss: 0.0209 - val_mae: 0.1635\n",
            "Epoch 74/100\n",
            "62/62 - 2s - loss: 0.0074 - mae: 0.0965 - val_loss: 0.0207 - val_mae: 0.1624\n",
            "Epoch 75/100\n",
            "62/62 - 2s - loss: 0.0074 - mae: 0.0962 - val_loss: 0.0205 - val_mae: 0.1615\n",
            "Epoch 76/100\n",
            "62/62 - 2s - loss: 0.0073 - mae: 0.0954 - val_loss: 0.0204 - val_mae: 0.1601\n",
            "Epoch 77/100\n",
            "62/62 - 2s - loss: 0.0072 - mae: 0.0948 - val_loss: 0.0202 - val_mae: 0.1589\n",
            "Epoch 78/100\n",
            "62/62 - 2s - loss: 0.0071 - mae: 0.0944 - val_loss: 0.0200 - val_mae: 0.1593\n",
            "Epoch 79/100\n",
            "62/62 - 2s - loss: 0.0071 - mae: 0.0939 - val_loss: 0.0198 - val_mae: 0.1585\n",
            "Epoch 80/100\n",
            "62/62 - 2s - loss: 0.0070 - mae: 0.0933 - val_loss: 0.0197 - val_mae: 0.1573\n",
            "Epoch 81/100\n",
            "62/62 - 2s - loss: 0.0069 - mae: 0.0929 - val_loss: 0.0195 - val_mae: 0.1567\n",
            "Epoch 82/100\n",
            "62/62 - 2s - loss: 0.0069 - mae: 0.0924 - val_loss: 0.0193 - val_mae: 0.1559\n",
            "Epoch 83/100\n",
            "62/62 - 2s - loss: 0.0068 - mae: 0.0918 - val_loss: 0.0191 - val_mae: 0.1551\n",
            "Epoch 84/100\n",
            "62/62 - 2s - loss: 0.0067 - mae: 0.0913 - val_loss: 0.0189 - val_mae: 0.1543\n",
            "Epoch 85/100\n",
            "62/62 - 2s - loss: 0.0067 - mae: 0.0907 - val_loss: 0.0188 - val_mae: 0.1536\n",
            "Epoch 86/100\n",
            "62/62 - 2s - loss: 0.0066 - mae: 0.0904 - val_loss: 0.0186 - val_mae: 0.1528\n",
            "Epoch 87/100\n",
            "62/62 - 2s - loss: 0.0065 - mae: 0.0897 - val_loss: 0.0184 - val_mae: 0.1519\n",
            "Epoch 88/100\n",
            "62/62 - 2s - loss: 0.0064 - mae: 0.0892 - val_loss: 0.0182 - val_mae: 0.1512\n",
            "Epoch 89/100\n",
            "62/62 - 2s - loss: 0.0064 - mae: 0.0886 - val_loss: 0.0181 - val_mae: 0.1506\n",
            "Epoch 90/100\n",
            "62/62 - 2s - loss: 0.0063 - mae: 0.0882 - val_loss: 0.0179 - val_mae: 0.1494\n",
            "Epoch 91/100\n",
            "62/62 - 2s - loss: 0.0062 - mae: 0.0876 - val_loss: 0.0178 - val_mae: 0.1483\n",
            "Epoch 92/100\n",
            "62/62 - 2s - loss: 0.0062 - mae: 0.0874 - val_loss: 0.0175 - val_mae: 0.1479\n",
            "Epoch 93/100\n",
            "62/62 - 2s - loss: 0.0061 - mae: 0.0865 - val_loss: 0.0174 - val_mae: 0.1469\n",
            "Epoch 94/100\n",
            "62/62 - 2s - loss: 0.0060 - mae: 0.0859 - val_loss: 0.0172 - val_mae: 0.1462\n",
            "Epoch 95/100\n",
            "62/62 - 2s - loss: 0.0060 - mae: 0.0857 - val_loss: 0.0170 - val_mae: 0.1458\n",
            "Epoch 96/100\n",
            "62/62 - 2s - loss: 0.0059 - mae: 0.0848 - val_loss: 0.0169 - val_mae: 0.1446\n",
            "Epoch 97/100\n",
            "62/62 - 2s - loss: 0.0058 - mae: 0.0844 - val_loss: 0.0167 - val_mae: 0.1438\n",
            "Epoch 98/100\n",
            "62/62 - 2s - loss: 0.0058 - mae: 0.0838 - val_loss: 0.0165 - val_mae: 0.1432\n",
            "Epoch 99/100\n",
            "62/62 - 2s - loss: 0.0057 - mae: 0.0836 - val_loss: 0.0164 - val_mae: 0.1426\n",
            "Epoch 100/100\n",
            "62/62 - 2s - loss: 0.0056 - mae: 0.0827 - val_loss: 0.0162 - val_mae: 0.1409\n"
          ],
          "name": "stdout"
        }
      ]
    },
    {
      "cell_type": "code",
      "metadata": {
        "colab": {
          "base_uri": "https://localhost:8080/",
          "height": 545
        },
        "id": "42GLn0mKKpAC",
        "outputId": "e100988d-efe6-498a-e44e-ecdba2e09fab"
      },
      "source": [
        "#Memvisualisasikan Akurasi dan Loss dari tiap-tiap Epochs\n",
        "train_mae = history.history['mae']\n",
        "val_mae = history.history['val_mae']\n",
        "\n",
        "train_loss = history.history['loss']\n",
        "val_loss = history.history['val_loss']\n",
        "\n",
        "epochs_range = range(100)\n",
        "plt.plot(epochs_range, train_mae, label='Training Mae')\n",
        "plt.plot(epochs_range, val_mae, label='Validation Mae')\n",
        "plt.title('Mae Train dan Validation ')\n",
        "plt.legend()\n",
        "plt.show()\n",
        "\n",
        "plt.plot(epochs_range, train_loss, label='Training Loss')\n",
        "plt.plot(epochs_range, val_loss, label='Validation Loss')\n",
        "plt.title('Loss Train dan Validation')\n",
        "plt.legend()\n",
        "plt.show()"
      ],
      "execution_count": null,
      "outputs": [
        {
          "output_type": "display_data",
          "data": {
            "image/png": "[encoded data removed]",
            "text/plain": [
              "<Figure size 432x288 with 1 Axes>"
            ]
          },
          "metadata": {
            "tags": [],
            "needs_background": "light"
          }
        },
        {
          "output_type": "display_data",
          "data": {
            "image/png": "[encoded data removed]",
            "text/plain": [
              "<Figure size 432x288 with 1 Axes>"
            ]
          },
          "metadata": {
            "tags": [],
            "needs_background": "light"
          }
        }
      ]
    },
    {
      "cell_type": "code",
      "metadata": {
        "id": "w3DoaFV6JZAr"
      },
      "source": [
        "callback = tf.keras.callbacks.EarlyStopping(monitor='loss', patience=3)"
      ],
      "execution_count": null,
      "outputs": []
    },
    {
      "cell_type": "code",
      "metadata": {
        "colab": {
          "base_uri": "https://localhost:8080/"
        },
        "id": "QJXnvzU08fR0",
        "outputId": "85ee50a5-42ea-4cde-bbb6-b0e9e69c85f3"
      },
      "source": [
        "optimizer = tf.keras.optimizers.SGD(lr=1.0000e-04, momentum=0.9)\n",
        "model.compile(loss=tf.keras.losses.Huber(), optimizer=optimizer, metrics=[\"mae\"])\n",
        "history = model.fit_generator(data_train, validation_data=(data_val), epochs=100, verbose=2,callbacks=[callback])"
      ],
      "execution_count": null,
      "outputs": [
        {
          "output_type": "stream",
          "text": [
            "/usr/local/lib/python3.7/dist-packages/tensorflow/python/keras/optimizer_v2/optimizer_v2.py:375: UserWarning: The `lr` argument is deprecated, use `learning_rate` instead.\n",
            "  \"The `lr` argument is deprecated, use `learning_rate` instead.\")\n",
            "/usr/local/lib/python3.7/dist-packages/tensorflow/python/keras/engine/training.py:1940: UserWarning: `Model.fit_generator` is deprecated and will be removed in a future version. Please use `Model.fit`, which supports generators.\n",
            "  warnings.warn('`Model.fit_generator` is deprecated and '\n"
          ],
          "name": "stderr"
        },
        {
          "output_type": "stream",
          "text": [
            "Epoch 1/100\n",
            "62/62 - 7s - loss: 0.0052 - mae: 0.0793 - val_loss: 0.0151 - val_mae: 0.1355\n",
            "Epoch 2/100\n",
            "62/62 - 2s - loss: 0.0052 - mae: 0.0788 - val_loss: 0.0150 - val_mae: 0.1345\n",
            "Epoch 3/100\n",
            "62/62 - 2s - loss: 0.0051 - mae: 0.0780 - val_loss: 0.0148 - val_mae: 0.1335\n",
            "Epoch 4/100\n",
            "62/62 - 2s - loss: 0.0050 - mae: 0.0774 - val_loss: 0.0146 - val_mae: 0.1331\n",
            "Epoch 5/100\n",
            "62/62 - 2s - loss: 0.0050 - mae: 0.0770 - val_loss: 0.0145 - val_mae: 0.1327\n",
            "Epoch 6/100\n",
            "62/62 - 2s - loss: 0.0049 - mae: 0.0765 - val_loss: 0.0143 - val_mae: 0.1311\n",
            "Epoch 7/100\n",
            "62/62 - 2s - loss: 0.0049 - mae: 0.0758 - val_loss: 0.0142 - val_mae: 0.1304\n",
            "Epoch 8/100\n",
            "62/62 - 2s - loss: 0.0048 - mae: 0.0755 - val_loss: 0.0140 - val_mae: 0.1297\n",
            "Epoch 9/100\n",
            "62/62 - 2s - loss: 0.0047 - mae: 0.0749 - val_loss: 0.0139 - val_mae: 0.1287\n",
            "Epoch 10/100\n",
            "62/62 - 2s - loss: 0.0047 - mae: 0.0744 - val_loss: 0.0137 - val_mae: 0.1286\n",
            "Epoch 11/100\n",
            "62/62 - 2s - loss: 0.0046 - mae: 0.0737 - val_loss: 0.0136 - val_mae: 0.1273\n",
            "Epoch 12/100\n",
            "62/62 - 2s - loss: 0.0046 - mae: 0.0732 - val_loss: 0.0134 - val_mae: 0.1261\n",
            "Epoch 13/100\n",
            "62/62 - 2s - loss: 0.0045 - mae: 0.0727 - val_loss: 0.0133 - val_mae: 0.1258\n",
            "Epoch 14/100\n",
            "62/62 - 2s - loss: 0.0045 - mae: 0.0724 - val_loss: 0.0131 - val_mae: 0.1252\n",
            "Epoch 15/100\n",
            "62/62 - 2s - loss: 0.0044 - mae: 0.0718 - val_loss: 0.0130 - val_mae: 0.1242\n",
            "Epoch 16/100\n",
            "62/62 - 2s - loss: 0.0044 - mae: 0.0712 - val_loss: 0.0128 - val_mae: 0.1233\n",
            "Epoch 17/100\n",
            "62/62 - 2s - loss: 0.0043 - mae: 0.0706 - val_loss: 0.0127 - val_mae: 0.1223\n",
            "Epoch 18/100\n",
            "62/62 - 2s - loss: 0.0043 - mae: 0.0708 - val_loss: 0.0125 - val_mae: 0.1217\n",
            "Epoch 19/100\n",
            "62/62 - 2s - loss: 0.0042 - mae: 0.0696 - val_loss: 0.0124 - val_mae: 0.1207\n",
            "Epoch 20/100\n",
            "62/62 - 2s - loss: 0.0042 - mae: 0.0697 - val_loss: 0.0123 - val_mae: 0.1206\n",
            "Epoch 21/100\n",
            "62/62 - 2s - loss: 0.0041 - mae: 0.0685 - val_loss: 0.0121 - val_mae: 0.1191\n",
            "Epoch 22/100\n",
            "62/62 - 2s - loss: 0.0041 - mae: 0.0686 - val_loss: 0.0120 - val_mae: 0.1187\n",
            "Epoch 23/100\n",
            "62/62 - 2s - loss: 0.0040 - mae: 0.0678 - val_loss: 0.0119 - val_mae: 0.1177\n",
            "Epoch 24/100\n",
            "62/62 - 2s - loss: 0.0040 - mae: 0.0674 - val_loss: 0.0117 - val_mae: 0.1166\n",
            "Epoch 25/100\n",
            "62/62 - 2s - loss: 0.0039 - mae: 0.0665 - val_loss: 0.0116 - val_mae: 0.1158\n",
            "Epoch 26/100\n",
            "62/62 - 2s - loss: 0.0038 - mae: 0.0660 - val_loss: 0.0115 - val_mae: 0.1153\n",
            "Epoch 27/100\n",
            "62/62 - 2s - loss: 0.0038 - mae: 0.0657 - val_loss: 0.0114 - val_mae: 0.1144\n",
            "Epoch 28/100\n",
            "62/62 - 2s - loss: 0.0038 - mae: 0.0653 - val_loss: 0.0113 - val_mae: 0.1135\n",
            "Epoch 29/100\n",
            "62/62 - 2s - loss: 0.0037 - mae: 0.0646 - val_loss: 0.0111 - val_mae: 0.1128\n",
            "Epoch 30/100\n",
            "62/62 - 2s - loss: 0.0037 - mae: 0.0644 - val_loss: 0.0109 - val_mae: 0.1129\n",
            "Epoch 31/100\n",
            "62/62 - 2s - loss: 0.0036 - mae: 0.0638 - val_loss: 0.0109 - val_mae: 0.1116\n",
            "Epoch 32/100\n",
            "62/62 - 2s - loss: 0.0036 - mae: 0.0631 - val_loss: 0.0107 - val_mae: 0.1109\n",
            "Epoch 33/100\n",
            "62/62 - 2s - loss: 0.0035 - mae: 0.0628 - val_loss: 0.0106 - val_mae: 0.1103\n",
            "Epoch 34/100\n",
            "62/62 - 2s - loss: 0.0035 - mae: 0.0624 - val_loss: 0.0105 - val_mae: 0.1093\n",
            "Epoch 35/100\n",
            "62/62 - 2s - loss: 0.0034 - mae: 0.0618 - val_loss: 0.0104 - val_mae: 0.1089\n",
            "Epoch 36/100\n",
            "62/62 - 2s - loss: 0.0034 - mae: 0.0614 - val_loss: 0.0103 - val_mae: 0.1080\n",
            "Epoch 37/100\n",
            "62/62 - 2s - loss: 0.0034 - mae: 0.0609 - val_loss: 0.0101 - val_mae: 0.1074\n",
            "Epoch 38/100\n",
            "62/62 - 2s - loss: 0.0033 - mae: 0.0604 - val_loss: 0.0100 - val_mae: 0.1066\n",
            "Epoch 39/100\n",
            "62/62 - 2s - loss: 0.0033 - mae: 0.0600 - val_loss: 0.0099 - val_mae: 0.1058\n",
            "Epoch 40/100\n",
            "62/62 - 2s - loss: 0.0033 - mae: 0.0600 - val_loss: 0.0098 - val_mae: 0.1051\n",
            "Epoch 41/100\n",
            "62/62 - 2s - loss: 0.0032 - mae: 0.0589 - val_loss: 0.0097 - val_mae: 0.1039\n",
            "Epoch 42/100\n",
            "62/62 - 2s - loss: 0.0032 - mae: 0.0583 - val_loss: 0.0096 - val_mae: 0.1029\n",
            "Epoch 43/100\n",
            "62/62 - 2s - loss: 0.0031 - mae: 0.0579 - val_loss: 0.0095 - val_mae: 0.1028\n",
            "Epoch 44/100\n",
            "62/62 - 2s - loss: 0.0031 - mae: 0.0577 - val_loss: 0.0094 - val_mae: 0.1024\n",
            "Epoch 45/100\n",
            "62/62 - 2s - loss: 0.0031 - mae: 0.0573 - val_loss: 0.0092 - val_mae: 0.1017\n",
            "Epoch 46/100\n",
            "62/62 - 2s - loss: 0.0030 - mae: 0.0569 - val_loss: 0.0092 - val_mae: 0.1007\n",
            "Epoch 47/100\n",
            "62/62 - 2s - loss: 0.0030 - mae: 0.0564 - val_loss: 0.0091 - val_mae: 0.0994\n",
            "Epoch 48/100\n",
            "62/62 - 2s - loss: 0.0030 - mae: 0.0558 - val_loss: 0.0090 - val_mae: 0.0990\n",
            "Epoch 49/100\n",
            "62/62 - 2s - loss: 0.0029 - mae: 0.0553 - val_loss: 0.0089 - val_mae: 0.0986\n",
            "Epoch 50/100\n",
            "62/62 - 2s - loss: 0.0029 - mae: 0.0552 - val_loss: 0.0087 - val_mae: 0.0986\n",
            "Epoch 51/100\n",
            "62/62 - 2s - loss: 0.0028 - mae: 0.0548 - val_loss: 0.0087 - val_mae: 0.0974\n",
            "Epoch 52/100\n",
            "62/62 - 2s - loss: 0.0028 - mae: 0.0541 - val_loss: 0.0086 - val_mae: 0.0969\n",
            "Epoch 53/100\n",
            "62/62 - 2s - loss: 0.0028 - mae: 0.0537 - val_loss: 0.0085 - val_mae: 0.0960\n",
            "Epoch 54/100\n",
            "62/62 - 2s - loss: 0.0028 - mae: 0.0532 - val_loss: 0.0084 - val_mae: 0.0954\n",
            "Epoch 55/100\n",
            "62/62 - 2s - loss: 0.0027 - mae: 0.0533 - val_loss: 0.0083 - val_mae: 0.0951\n",
            "Epoch 56/100\n",
            "62/62 - 2s - loss: 0.0027 - mae: 0.0527 - val_loss: 0.0082 - val_mae: 0.0943\n",
            "Epoch 57/100\n",
            "62/62 - 2s - loss: 0.0027 - mae: 0.0524 - val_loss: 0.0082 - val_mae: 0.0934\n",
            "Epoch 58/100\n",
            "62/62 - 2s - loss: 0.0026 - mae: 0.0518 - val_loss: 0.0080 - val_mae: 0.0929\n",
            "Epoch 59/100\n",
            "62/62 - 2s - loss: 0.0026 - mae: 0.0517 - val_loss: 0.0080 - val_mae: 0.0921\n",
            "Epoch 60/100\n",
            "62/62 - 2s - loss: 0.0026 - mae: 0.0508 - val_loss: 0.0079 - val_mae: 0.0915\n",
            "Epoch 61/100\n",
            "62/62 - 2s - loss: 0.0025 - mae: 0.0505 - val_loss: 0.0078 - val_mae: 0.0911\n",
            "Epoch 62/100\n",
            "62/62 - 2s - loss: 0.0025 - mae: 0.0507 - val_loss: 0.0077 - val_mae: 0.0905\n",
            "Epoch 63/100\n",
            "62/62 - 2s - loss: 0.0025 - mae: 0.0497 - val_loss: 0.0076 - val_mae: 0.0898\n",
            "Epoch 64/100\n",
            "62/62 - 2s - loss: 0.0025 - mae: 0.0494 - val_loss: 0.0075 - val_mae: 0.0893\n",
            "Epoch 65/100\n",
            "62/62 - 2s - loss: 0.0024 - mae: 0.0492 - val_loss: 0.0075 - val_mae: 0.0888\n",
            "Epoch 66/100\n",
            "62/62 - 2s - loss: 0.0024 - mae: 0.0490 - val_loss: 0.0074 - val_mae: 0.0881\n",
            "Epoch 67/100\n",
            "62/62 - 2s - loss: 0.0024 - mae: 0.0485 - val_loss: 0.0073 - val_mae: 0.0874\n",
            "Epoch 68/100\n",
            "62/62 - 2s - loss: 0.0024 - mae: 0.0481 - val_loss: 0.0072 - val_mae: 0.0869\n",
            "Epoch 69/100\n",
            "62/62 - 2s - loss: 0.0023 - mae: 0.0479 - val_loss: 0.0071 - val_mae: 0.0865\n",
            "Epoch 70/100\n",
            "62/62 - 2s - loss: 0.0023 - mae: 0.0474 - val_loss: 0.0071 - val_mae: 0.0858\n",
            "Epoch 71/100\n",
            "62/62 - 2s - loss: 0.0023 - mae: 0.0473 - val_loss: 0.0070 - val_mae: 0.0854\n",
            "Epoch 72/100\n",
            "62/62 - 2s - loss: 0.0023 - mae: 0.0468 - val_loss: 0.0069 - val_mae: 0.0849\n",
            "Epoch 73/100\n",
            "62/62 - 2s - loss: 0.0023 - mae: 0.0469 - val_loss: 0.0069 - val_mae: 0.0844\n",
            "Epoch 74/100\n",
            "62/62 - 2s - loss: 0.0022 - mae: 0.0464 - val_loss: 0.0068 - val_mae: 0.0839\n",
            "Epoch 75/100\n",
            "62/62 - 2s - loss: 0.0022 - mae: 0.0457 - val_loss: 0.0068 - val_mae: 0.0833\n",
            "Epoch 76/100\n",
            "62/62 - 2s - loss: 0.0022 - mae: 0.0452 - val_loss: 0.0067 - val_mae: 0.0828\n",
            "Epoch 77/100\n",
            "62/62 - 2s - loss: 0.0022 - mae: 0.0453 - val_loss: 0.0066 - val_mae: 0.0825\n",
            "Epoch 78/100\n",
            "62/62 - 2s - loss: 0.0022 - mae: 0.0449 - val_loss: 0.0066 - val_mae: 0.0820\n",
            "Epoch 79/100\n",
            "62/62 - 2s - loss: 0.0021 - mae: 0.0447 - val_loss: 0.0065 - val_mae: 0.0816\n",
            "Epoch 80/100\n",
            "62/62 - 2s - loss: 0.0021 - mae: 0.0443 - val_loss: 0.0064 - val_mae: 0.0810\n",
            "Epoch 81/100\n",
            "62/62 - 2s - loss: 0.0021 - mae: 0.0441 - val_loss: 0.0064 - val_mae: 0.0807\n",
            "Epoch 82/100\n",
            "62/62 - 2s - loss: 0.0021 - mae: 0.0438 - val_loss: 0.0064 - val_mae: 0.0800\n",
            "Epoch 83/100\n",
            "62/62 - 2s - loss: 0.0021 - mae: 0.0438 - val_loss: 0.0063 - val_mae: 0.0797\n",
            "Epoch 84/100\n",
            "62/62 - 2s - loss: 0.0021 - mae: 0.0435 - val_loss: 0.0062 - val_mae: 0.0793\n",
            "Epoch 85/100\n",
            "62/62 - 2s - loss: 0.0020 - mae: 0.0431 - val_loss: 0.0062 - val_mae: 0.0787\n",
            "Epoch 86/100\n",
            "62/62 - 2s - loss: 0.0020 - mae: 0.0424 - val_loss: 0.0061 - val_mae: 0.0783\n",
            "Epoch 87/100\n",
            "62/62 - 2s - loss: 0.0020 - mae: 0.0424 - val_loss: 0.0061 - val_mae: 0.0779\n",
            "Epoch 88/100\n",
            "62/62 - 2s - loss: 0.0020 - mae: 0.0419 - val_loss: 0.0060 - val_mae: 0.0774\n",
            "Epoch 89/100\n",
            "62/62 - 2s - loss: 0.0020 - mae: 0.0425 - val_loss: 0.0059 - val_mae: 0.0770\n",
            "Epoch 90/100\n",
            "62/62 - 2s - loss: 0.0019 - mae: 0.0414 - val_loss: 0.0059 - val_mae: 0.0766\n",
            "Epoch 91/100\n",
            "62/62 - 2s - loss: 0.0019 - mae: 0.0411 - val_loss: 0.0059 - val_mae: 0.0763\n",
            "Epoch 92/100\n",
            "62/62 - 2s - loss: 0.0019 - mae: 0.0411 - val_loss: 0.0058 - val_mae: 0.0759\n",
            "Epoch 93/100\n",
            "62/62 - 2s - loss: 0.0019 - mae: 0.0415 - val_loss: 0.0057 - val_mae: 0.0755\n",
            "Epoch 94/100\n",
            "62/62 - 2s - loss: 0.0019 - mae: 0.0407 - val_loss: 0.0057 - val_mae: 0.0751\n",
            "Epoch 95/100\n",
            "62/62 - 2s - loss: 0.0019 - mae: 0.0402 - val_loss: 0.0057 - val_mae: 0.0747\n",
            "Epoch 96/100\n",
            "62/62 - 2s - loss: 0.0019 - mae: 0.0404 - val_loss: 0.0056 - val_mae: 0.0743\n",
            "Epoch 97/100\n",
            "62/62 - 2s - loss: 0.0019 - mae: 0.0397 - val_loss: 0.0056 - val_mae: 0.0740\n",
            "Epoch 98/100\n",
            "62/62 - 2s - loss: 0.0018 - mae: 0.0396 - val_loss: 0.0055 - val_mae: 0.0736\n",
            "Epoch 99/100\n",
            "62/62 - 2s - loss: 0.0018 - mae: 0.0397 - val_loss: 0.0055 - val_mae: 0.0732\n",
            "Epoch 100/100\n",
            "62/62 - 2s - loss: 0.0018 - mae: 0.0394 - val_loss: 0.0055 - val_mae: 0.0729\n"
          ],
          "name": "stdout"
        }
      ]
    },
    {
      "cell_type": "code",
      "metadata": {
        "colab": {
          "base_uri": "https://localhost:8080/",
          "height": 545
        },
        "id": "L5YKmBnN9uTw",
        "outputId": "bd9f8bc2-f37b-405e-dc04-531db1c47331"
      },
      "source": [
        "#Memvisualisasikan Akurasi dan Loss dari tiap-tiap Epochs\n",
        "train_mae = history.history['mae']\n",
        "val_mae = history.history['val_mae']\n",
        "\n",
        "train_loss = history.history['loss']\n",
        "val_loss = history.history['val_loss']\n",
        "\n",
        "epochs_range = range(100)\n",
        "plt.plot(epochs_range, train_mae, label='Training Mae')\n",
        "plt.plot(epochs_range, val_mae, label='Validation Mae')\n",
        "plt.title('Mae Train dan Validation ')\n",
        "plt.legend()\n",
        "plt.show()\n",
        "\n",
        "plt.plot(epochs_range, train_loss, label='Training Loss')\n",
        "plt.plot(epochs_range, val_loss, label='Validation Loss')\n",
        "plt.title('Loss Train dan Validation')\n",
        "plt.legend()\n",
        "plt.show()"
      ],
      "execution_count": null,
      "outputs": [
        {
          "output_type": "display_data",
          "data": {
            "image/png": "[encoded data removed]",
            "text/plain": [
              "<Figure size 432x288 with 1 Axes>"
            ]
          },
          "metadata": {
            "tags": [],
            "needs_background": "light"
          }
        },
        {
          "output_type": "display_data",
          "data": {
            "image/png": "[encoded data removed]",
            "text/plain": [
              "<Figure size 432x288 with 1 Axes>"
            ]
          },
          "metadata": {
            "tags": [],
            "needs_background": "light"
          }
        }
      ]
    },
    {
      "cell_type": "code",
      "metadata": {
        "colab": {
          "base_uri": "https://localhost:8080/"
        },
        "id": "TGf6OdO-ABvf",
        "outputId": "e58f9509-52fc-472e-f50f-2648ac4901e7"
      },
      "source": [
        "optimizer = tf.keras.optimizers.SGD(lr=1.0000e-04, momentum=0.9)\n",
        "model.compile(loss=tf.keras.losses.Huber(), optimizer=optimizer, metrics=[\"mae\"])\n",
        "history = model.fit_generator(data_train, validation_data=(data_val), epochs=100, verbose=2,callbacks=[callback])"
      ],
      "execution_count": null,
      "outputs": [
        {
          "output_type": "stream",
          "text": [
            "/usr/local/lib/python3.7/dist-packages/tensorflow/python/keras/optimizer_v2/optimizer_v2.py:375: UserWarning: The `lr` argument is deprecated, use `learning_rate` instead.\n",
            "  \"The `lr` argument is deprecated, use `learning_rate` instead.\")\n",
            "/usr/local/lib/python3.7/dist-packages/tensorflow/python/keras/engine/training.py:1940: UserWarning: `Model.fit_generator` is deprecated and will be removed in a future version. Please use `Model.fit`, which supports generators.\n",
            "  warnings.warn('`Model.fit_generator` is deprecated and '\n"
          ],
          "name": "stderr"
        },
        {
          "output_type": "stream",
          "text": [
            "Epoch 1/100\n",
            "62/62 - 7s - loss: 0.0018 - mae: 0.0389 - val_loss: 0.0054 - val_mae: 0.0726\n",
            "Epoch 2/100\n",
            "62/62 - 2s - loss: 0.0018 - mae: 0.0387 - val_loss: 0.0054 - val_mae: 0.0723\n",
            "Epoch 3/100\n",
            "62/62 - 2s - loss: 0.0018 - mae: 0.0388 - val_loss: 0.0053 - val_mae: 0.0719\n",
            "Epoch 4/100\n",
            "62/62 - 2s - loss: 0.0018 - mae: 0.0387 - val_loss: 0.0053 - val_mae: 0.0716\n",
            "Epoch 5/100\n",
            "62/62 - 2s - loss: 0.0018 - mae: 0.0384 - val_loss: 0.0053 - val_mae: 0.0712\n",
            "Epoch 6/100\n",
            "62/62 - 2s - loss: 0.0018 - mae: 0.0376 - val_loss: 0.0053 - val_mae: 0.0711\n",
            "Epoch 7/100\n",
            "62/62 - 2s - loss: 0.0017 - mae: 0.0378 - val_loss: 0.0052 - val_mae: 0.0706\n",
            "Epoch 8/100\n",
            "62/62 - 2s - loss: 0.0017 - mae: 0.0377 - val_loss: 0.0052 - val_mae: 0.0703\n",
            "Epoch 9/100\n",
            "62/62 - 2s - loss: 0.0017 - mae: 0.0372 - val_loss: 0.0051 - val_mae: 0.0700\n",
            "Epoch 10/100\n",
            "62/62 - 2s - loss: 0.0017 - mae: 0.0373 - val_loss: 0.0050 - val_mae: 0.0697\n",
            "Epoch 11/100\n",
            "62/62 - 2s - loss: 0.0017 - mae: 0.0373 - val_loss: 0.0050 - val_mae: 0.0694\n",
            "Epoch 12/100\n",
            "62/62 - 2s - loss: 0.0017 - mae: 0.0369 - val_loss: 0.0050 - val_mae: 0.0692\n",
            "Epoch 13/100\n",
            "62/62 - 2s - loss: 0.0017 - mae: 0.0368 - val_loss: 0.0050 - val_mae: 0.0688\n",
            "Epoch 14/100\n",
            "62/62 - 2s - loss: 0.0017 - mae: 0.0362 - val_loss: 0.0050 - val_mae: 0.0686\n",
            "Epoch 15/100\n",
            "62/62 - 2s - loss: 0.0017 - mae: 0.0361 - val_loss: 0.0049 - val_mae: 0.0683\n",
            "Epoch 16/100\n",
            "62/62 - 2s - loss: 0.0017 - mae: 0.0360 - val_loss: 0.0049 - val_mae: 0.0681\n",
            "Epoch 17/100\n",
            "62/62 - 2s - loss: 0.0017 - mae: 0.0366 - val_loss: 0.0048 - val_mae: 0.0676\n",
            "Epoch 18/100\n",
            "62/62 - 2s - loss: 0.0017 - mae: 0.0357 - val_loss: 0.0048 - val_mae: 0.0674\n",
            "Epoch 19/100\n",
            "62/62 - 2s - loss: 0.0016 - mae: 0.0357 - val_loss: 0.0048 - val_mae: 0.0671\n",
            "Epoch 20/100\n",
            "62/62 - 2s - loss: 0.0016 - mae: 0.0356 - val_loss: 0.0047 - val_mae: 0.0668\n",
            "Epoch 21/100\n",
            "62/62 - 2s - loss: 0.0016 - mae: 0.0357 - val_loss: 0.0047 - val_mae: 0.0665\n",
            "Epoch 22/100\n",
            "62/62 - 2s - loss: 0.0016 - mae: 0.0355 - val_loss: 0.0047 - val_mae: 0.0663\n",
            "Epoch 23/100\n",
            "62/62 - 2s - loss: 0.0016 - mae: 0.0351 - val_loss: 0.0047 - val_mae: 0.0661\n",
            "Epoch 24/100\n",
            "62/62 - 2s - loss: 0.0016 - mae: 0.0349 - val_loss: 0.0047 - val_mae: 0.0659\n",
            "Epoch 25/100\n",
            "62/62 - 2s - loss: 0.0016 - mae: 0.0347 - val_loss: 0.0046 - val_mae: 0.0657\n",
            "Epoch 26/100\n",
            "62/62 - 2s - loss: 0.0016 - mae: 0.0348 - val_loss: 0.0046 - val_mae: 0.0653\n",
            "Epoch 27/100\n",
            "62/62 - 2s - loss: 0.0016 - mae: 0.0346 - val_loss: 0.0046 - val_mae: 0.0652\n",
            "Epoch 28/100\n",
            "62/62 - 2s - loss: 0.0016 - mae: 0.0343 - val_loss: 0.0045 - val_mae: 0.0649\n",
            "Epoch 29/100\n",
            "62/62 - 2s - loss: 0.0016 - mae: 0.0341 - val_loss: 0.0045 - val_mae: 0.0646\n",
            "Epoch 30/100\n",
            "62/62 - 2s - loss: 0.0016 - mae: 0.0342 - val_loss: 0.0045 - val_mae: 0.0643\n",
            "Epoch 31/100\n",
            "62/62 - 2s - loss: 0.0016 - mae: 0.0340 - val_loss: 0.0045 - val_mae: 0.0642\n",
            "Epoch 32/100\n",
            "62/62 - 2s - loss: 0.0016 - mae: 0.0337 - val_loss: 0.0045 - val_mae: 0.0641\n",
            "Epoch 33/100\n",
            "62/62 - 2s - loss: 0.0016 - mae: 0.0342 - val_loss: 0.0044 - val_mae: 0.0637\n",
            "Epoch 34/100\n",
            "62/62 - 2s - loss: 0.0016 - mae: 0.0335 - val_loss: 0.0044 - val_mae: 0.0635\n",
            "Epoch 35/100\n",
            "62/62 - 2s - loss: 0.0016 - mae: 0.0337 - val_loss: 0.0043 - val_mae: 0.0632\n",
            "Epoch 36/100\n",
            "62/62 - 2s - loss: 0.0016 - mae: 0.0337 - val_loss: 0.0043 - val_mae: 0.0630\n",
            "Epoch 37/100\n",
            "62/62 - 2s - loss: 0.0015 - mae: 0.0332 - val_loss: 0.0043 - val_mae: 0.0629\n",
            "Epoch 38/100\n",
            "62/62 - 2s - loss: 0.0015 - mae: 0.0329 - val_loss: 0.0043 - val_mae: 0.0627\n",
            "Epoch 39/100\n",
            "62/62 - 2s - loss: 0.0015 - mae: 0.0330 - val_loss: 0.0043 - val_mae: 0.0625\n",
            "Epoch 40/100\n",
            "62/62 - 2s - loss: 0.0015 - mae: 0.0330 - val_loss: 0.0042 - val_mae: 0.0622\n",
            "Epoch 41/100\n",
            "62/62 - 2s - loss: 0.0015 - mae: 0.0331 - val_loss: 0.0042 - val_mae: 0.0621\n",
            "Epoch 42/100\n",
            "62/62 - 2s - loss: 0.0015 - mae: 0.0330 - val_loss: 0.0042 - val_mae: 0.0618\n",
            "Epoch 43/100\n",
            "62/62 - 2s - loss: 0.0015 - mae: 0.0330 - val_loss: 0.0042 - val_mae: 0.0617\n",
            "Epoch 44/100\n",
            "62/62 - 2s - loss: 0.0015 - mae: 0.0331 - val_loss: 0.0042 - val_mae: 0.0616\n",
            "Epoch 45/100\n",
            "62/62 - 2s - loss: 0.0015 - mae: 0.0329 - val_loss: 0.0042 - val_mae: 0.0613\n",
            "Epoch 46/100\n",
            "62/62 - 2s - loss: 0.0015 - mae: 0.0326 - val_loss: 0.0042 - val_mae: 0.0611\n",
            "Epoch 47/100\n",
            "62/62 - 2s - loss: 0.0015 - mae: 0.0321 - val_loss: 0.0042 - val_mae: 0.0610\n",
            "Epoch 48/100\n",
            "62/62 - 2s - loss: 0.0015 - mae: 0.0323 - val_loss: 0.0041 - val_mae: 0.0609\n",
            "Epoch 49/100\n",
            "62/62 - 2s - loss: 0.0015 - mae: 0.0324 - val_loss: 0.0041 - val_mae: 0.0606\n",
            "Epoch 50/100\n",
            "62/62 - 2s - loss: 0.0015 - mae: 0.0321 - val_loss: 0.0041 - val_mae: 0.0605\n",
            "Epoch 51/100\n",
            "62/62 - 2s - loss: 0.0015 - mae: 0.0321 - val_loss: 0.0041 - val_mae: 0.0603\n",
            "Epoch 52/100\n",
            "62/62 - 2s - loss: 0.0015 - mae: 0.0320 - val_loss: 0.0041 - val_mae: 0.0602\n",
            "Epoch 53/100\n",
            "62/62 - 2s - loss: 0.0015 - mae: 0.0314 - val_loss: 0.0041 - val_mae: 0.0601\n",
            "Epoch 54/100\n",
            "62/62 - 2s - loss: 0.0015 - mae: 0.0320 - val_loss: 0.0040 - val_mae: 0.0597\n",
            "Epoch 55/100\n",
            "62/62 - 2s - loss: 0.0015 - mae: 0.0318 - val_loss: 0.0040 - val_mae: 0.0597\n",
            "Epoch 56/100\n",
            "62/62 - 2s - loss: 0.0015 - mae: 0.0316 - val_loss: 0.0040 - val_mae: 0.0595\n",
            "Epoch 57/100\n",
            "62/62 - 2s - loss: 0.0015 - mae: 0.0319 - val_loss: 0.0040 - val_mae: 0.0593\n",
            "Epoch 58/100\n",
            "62/62 - 2s - loss: 0.0015 - mae: 0.0320 - val_loss: 0.0039 - val_mae: 0.0591\n",
            "Epoch 59/100\n",
            "62/62 - 2s - loss: 0.0015 - mae: 0.0312 - val_loss: 0.0040 - val_mae: 0.0593\n",
            "Epoch 60/100\n",
            "62/62 - 2s - loss: 0.0015 - mae: 0.0315 - val_loss: 0.0039 - val_mae: 0.0588\n",
            "Epoch 61/100\n",
            "62/62 - 2s - loss: 0.0015 - mae: 0.0313 - val_loss: 0.0039 - val_mae: 0.0588\n",
            "Epoch 62/100\n",
            "62/62 - 2s - loss: 0.0015 - mae: 0.0310 - val_loss: 0.0040 - val_mae: 0.0589\n",
            "Epoch 63/100\n",
            "62/62 - 2s - loss: 0.0015 - mae: 0.0319 - val_loss: 0.0039 - val_mae: 0.0585\n",
            "Epoch 64/100\n",
            "62/62 - 2s - loss: 0.0015 - mae: 0.0310 - val_loss: 0.0039 - val_mae: 0.0584\n",
            "Epoch 65/100\n",
            "62/62 - 2s - loss: 0.0015 - mae: 0.0313 - val_loss: 0.0039 - val_mae: 0.0582\n",
            "Epoch 66/100\n",
            "62/62 - 2s - loss: 0.0015 - mae: 0.0310 - val_loss: 0.0039 - val_mae: 0.0583\n",
            "Epoch 67/100\n",
            "62/62 - 2s - loss: 0.0015 - mae: 0.0309 - val_loss: 0.0038 - val_mae: 0.0580\n",
            "Epoch 68/100\n",
            "62/62 - 2s - loss: 0.0015 - mae: 0.0308 - val_loss: 0.0039 - val_mae: 0.0580\n",
            "Epoch 69/100\n",
            "62/62 - 2s - loss: 0.0015 - mae: 0.0312 - val_loss: 0.0038 - val_mae: 0.0577\n",
            "Epoch 70/100\n",
            "62/62 - 2s - loss: 0.0015 - mae: 0.0309 - val_loss: 0.0038 - val_mae: 0.0577\n",
            "Epoch 71/100\n",
            "62/62 - 2s - loss: 0.0015 - mae: 0.0306 - val_loss: 0.0038 - val_mae: 0.0576\n",
            "Epoch 72/100\n",
            "62/62 - 2s - loss: 0.0015 - mae: 0.0311 - val_loss: 0.0038 - val_mae: 0.0576\n",
            "Epoch 73/100\n",
            "62/62 - 2s - loss: 0.0015 - mae: 0.0303 - val_loss: 0.0038 - val_mae: 0.0576\n",
            "Epoch 74/100\n",
            "62/62 - 2s - loss: 0.0015 - mae: 0.0306 - val_loss: 0.0038 - val_mae: 0.0573\n",
            "Epoch 75/100\n",
            "62/62 - 2s - loss: 0.0015 - mae: 0.0309 - val_loss: 0.0038 - val_mae: 0.0571\n",
            "Epoch 76/100\n",
            "62/62 - 2s - loss: 0.0015 - mae: 0.0303 - val_loss: 0.0038 - val_mae: 0.0571\n",
            "Epoch 77/100\n",
            "62/62 - 2s - loss: 0.0014 - mae: 0.0306 - val_loss: 0.0037 - val_mae: 0.0569\n",
            "Epoch 78/100\n",
            "62/62 - 2s - loss: 0.0014 - mae: 0.0306 - val_loss: 0.0037 - val_mae: 0.0569\n",
            "Epoch 79/100\n",
            "62/62 - 2s - loss: 0.0014 - mae: 0.0306 - val_loss: 0.0037 - val_mae: 0.0568\n",
            "Epoch 80/100\n",
            "62/62 - 2s - loss: 0.0014 - mae: 0.0305 - val_loss: 0.0037 - val_mae: 0.0568\n",
            "Epoch 81/100\n",
            "62/62 - 2s - loss: 0.0014 - mae: 0.0302 - val_loss: 0.0037 - val_mae: 0.0566\n",
            "Epoch 82/100\n",
            "62/62 - 2s - loss: 0.0014 - mae: 0.0303 - val_loss: 0.0037 - val_mae: 0.0565\n",
            "Epoch 83/100\n",
            "62/62 - 2s - loss: 0.0014 - mae: 0.0300 - val_loss: 0.0037 - val_mae: 0.0565\n",
            "Epoch 84/100\n",
            "62/62 - 2s - loss: 0.0014 - mae: 0.0299 - val_loss: 0.0037 - val_mae: 0.0567\n",
            "Epoch 85/100\n",
            "62/62 - 2s - loss: 0.0014 - mae: 0.0306 - val_loss: 0.0037 - val_mae: 0.0561\n",
            "Epoch 86/100\n",
            "62/62 - 2s - loss: 0.0014 - mae: 0.0299 - val_loss: 0.0037 - val_mae: 0.0562\n",
            "Epoch 87/100\n",
            "62/62 - 2s - loss: 0.0014 - mae: 0.0300 - val_loss: 0.0036 - val_mae: 0.0560\n",
            "Epoch 88/100\n",
            "62/62 - 2s - loss: 0.0014 - mae: 0.0302 - val_loss: 0.0036 - val_mae: 0.0558\n",
            "Epoch 89/100\n",
            "62/62 - 2s - loss: 0.0014 - mae: 0.0303 - val_loss: 0.0036 - val_mae: 0.0559\n",
            "Epoch 90/100\n",
            "62/62 - 2s - loss: 0.0014 - mae: 0.0305 - val_loss: 0.0037 - val_mae: 0.0559\n",
            "Epoch 91/100\n",
            "62/62 - 2s - loss: 0.0014 - mae: 0.0297 - val_loss: 0.0037 - val_mae: 0.0559\n",
            "Epoch 92/100\n",
            "62/62 - 2s - loss: 0.0014 - mae: 0.0299 - val_loss: 0.0036 - val_mae: 0.0557\n",
            "Epoch 93/100\n",
            "62/62 - 2s - loss: 0.0014 - mae: 0.0295 - val_loss: 0.0036 - val_mae: 0.0557\n",
            "Epoch 94/100\n",
            "62/62 - 2s - loss: 0.0014 - mae: 0.0296 - val_loss: 0.0036 - val_mae: 0.0558\n",
            "Epoch 95/100\n",
            "62/62 - 2s - loss: 0.0014 - mae: 0.0301 - val_loss: 0.0036 - val_mae: 0.0553\n",
            "Epoch 96/100\n",
            "62/62 - 2s - loss: 0.0014 - mae: 0.0302 - val_loss: 0.0036 - val_mae: 0.0554\n",
            "Epoch 97/100\n",
            "62/62 - 2s - loss: 0.0014 - mae: 0.0298 - val_loss: 0.0036 - val_mae: 0.0553\n",
            "Epoch 98/100\n",
            "62/62 - 2s - loss: 0.0014 - mae: 0.0300 - val_loss: 0.0036 - val_mae: 0.0555\n",
            "Epoch 99/100\n",
            "62/62 - 2s - loss: 0.0014 - mae: 0.0296 - val_loss: 0.0036 - val_mae: 0.0553\n",
            "Epoch 100/100\n",
            "62/62 - 2s - loss: 0.0014 - mae: 0.0294 - val_loss: 0.0036 - val_mae: 0.0554\n"
          ],
          "name": "stdout"
        }
      ]
    },
    {
      "cell_type": "code",
      "metadata": {
        "colab": {
          "base_uri": "https://localhost:8080/",
          "height": 545
        },
        "id": "OPYwDELlA_uV",
        "outputId": "081cd55a-3a8c-493b-f7ab-fa70eecaab3b"
      },
      "source": [
        "#Memvisualisasikan Akurasi dan Loss dari tiap-tiap Epochs\n",
        "train_mae = history.history['mae']\n",
        "val_mae = history.history['val_mae']\n",
        "\n",
        "train_loss = history.history['loss']\n",
        "val_loss = history.history['val_loss']\n",
        "\n",
        "epochs_range = range(100)\n",
        "plt.plot(epochs_range, train_mae, label='Training Mae')\n",
        "plt.plot(epochs_range, val_mae, label='Validation Mae')\n",
        "plt.title('Mae Train dan Validation ')\n",
        "plt.legend()\n",
        "plt.show()\n",
        "\n",
        "plt.plot(epochs_range, train_loss, label='Training Loss')\n",
        "plt.plot(epochs_range, val_loss, label='Validation Loss')\n",
        "plt.title('Loss Train dan Validation')\n",
        "plt.legend()\n",
        "plt.show()"
      ],
      "execution_count": null,
      "outputs": [
        {
          "output_type": "display_data",
          "data": {
            "image/png": "[encoded data removed]",
            "text/plain": [
              "<Figure size 432x288 with 1 Axes>"
            ]
          },
          "metadata": {
            "tags": [],
            "needs_background": "light"
          }
        },
        {
          "output_type": "display_data",
          "data": {
            "image/png": "[encoded data removed]",
            "text/plain": [
              "<Figure size 432x288 with 1 Axes>"
            ]
          },
          "metadata": {
            "tags": [],
            "needs_background": "light"
          }
        }
      ]
    },
    {
      "cell_type": "markdown",
      "metadata": {
        "id": "BSsNk79iBJHR"
      },
      "source": [
        "**Summary Checklist**\n",
        "\n",
        "1.Dataset memiliki minimal memiliki 1000 sampel"
      ]
    },
    {
      "cell_type": "code",
      "metadata": {
        "colab": {
          "base_uri": "https://localhost:8080/"
        },
        "id": "cUCLhUdpBPVQ",
        "outputId": "831c0e17-b480-415c-e6e5-29cb3c0d9e26"
      },
      "source": [
        "df.count()"
      ],
      "execution_count": null,
      "outputs": [
        {
          "output_type": "execute_result",
          "data": {
            "text/plain": [
              "Close    1556\n",
              "dtype: int64"
            ]
          },
          "metadata": {
            "tags": []
          },
          "execution_count": 44
        }
      ]
    },
    {
      "cell_type": "markdown",
      "metadata": {
        "id": "k1yqzCsdBezK"
      },
      "source": [
        "2. Harus menggunakan LSTM dalam arsitektur model\n"
      ]
    },
    {
      "cell_type": "code",
      "metadata": {
        "id": "fKG0IyDaEE4W"
      },
      "source": [
        "#model = tf.keras.models.Sequential([\n",
        "  #tf.keras.layers.LSTM(60, return_sequences=True, input_shape=(look_back, 1)),\n",
        "  #tf.keras.layers.LSTM(60),\n",
        "  #tf.keras.layers.Dense(30, activation=\"relu\"),\n",
        "  #tf.keras.layers.Dense(10, activation=\"relu\"),\n",
        "  #tf.keras.layers.Dense(1),\n",
        "#])"
      ],
      "execution_count": null,
      "outputs": []
    },
    {
      "cell_type": "markdown",
      "metadata": {
        "id": "i_04eKNaBtuy"
      },
      "source": [
        "3. Validation set sebesar 20% dari total dataset "
      ]
    },
    {
      "cell_type": "code",
      "metadata": {
        "colab": {
          "base_uri": "https://localhost:8080/"
        },
        "id": "Cu_bFqrnB2gV",
        "outputId": "166f8839-5d23-42bf-e33d-f867b0dbbc27"
      },
      "source": [
        "print('jumlah data train: ' +str(len(data_train)))\n",
        "print('jumlah data validation: ' +str(len(data_val)))\n",
        "print('rasio data validation: ' +str(len(data_val)/len(df)))\n"
      ],
      "execution_count": null,
      "outputs": [
        {
          "output_type": "stream",
          "text": [
            "jumlah data train: 1244\n",
            "jumlah data validation: 312\n",
            "rasio data validation: 0.20051413881748073\n"
          ],
          "name": "stdout"
        }
      ]
    },
    {
      "cell_type": "markdown",
      "metadata": {
        "id": "VhBWW63YDycC"
      },
      "source": [
        "4. Model harus menggunakan model sequential. "
      ]
    },
    {
      "cell_type": "code",
      "metadata": {
        "id": "-3JzZS9vEUlE"
      },
      "source": [
        "#model = tf.keras.models.Sequential([\n",
        "  #tf.keras.layers.LSTM(60, return_sequences=True, input_shape=(look_back, 1)),\n",
        "  #tf.keras.layers.LSTM(60),\n",
        "  #tf.keras.layers.Dense(30, activation=\"relu\"),\n",
        "  #tf.keras.layers.Dense(10, activation=\"relu\"),\n",
        "  #tf.keras.layers.Dense(1),\n",
        "#]"
      ],
      "execution_count": null,
      "outputs": []
    },
    {
      "cell_type": "markdown",
      "metadata": {
        "id": "xCrrWBNOEZIA"
      },
      "source": [
        "5. Harus menggunakan Learning Rate pada Optimizer. "
      ]
    },
    {
      "cell_type": "code",
      "metadata": {
        "id": "3deBIAeFEhEf"
      },
      "source": [
        "#optimizer = tf.keras.optimizers.SGD(lr=1.0000e-04, momentum=0.9)"
      ],
      "execution_count": null,
      "outputs": []
    },
    {
      "cell_type": "markdown",
      "metadata": {
        "id": "EoB2BqTiEeyr"
      },
      "source": [
        "6.MAE < 10% skala data."
      ]
    },
    {
      "cell_type": "code",
      "metadata": {
        "colab": {
          "base_uri": "https://localhost:8080/"
        },
        "id": "XeYiLsT-Fqxz",
        "outputId": "36ed0b89-16b4-4e6b-b999-9c72bf7d15b9"
      },
      "source": [
        "print('Mae Train Terakhir: '+ str(history.history['mae'][99]))\n",
        "print('Mae Validation Terakhir: '+ str(history.history['val_mae'][99]))"
      ],
      "execution_count": null,
      "outputs": [
        {
          "output_type": "stream",
          "text": [
            "Mae Train Terakhir: 0.029356008395552635\n",
            "Mae Validation Terakhir: 0.0554179809987545\n"
          ],
          "name": "stdout"
        }
      ]
    },
    {
      "cell_type": "code",
      "metadata": {
        "colab": {
          "base_uri": "https://localhost:8080/",
          "height": 290
        },
        "id": "bepc--b-IR7y",
        "outputId": "f9bbae78-4d61-4d9a-f5cd-ad3fee5c5aaf"
      },
      "source": [
        "df.describe()"
      ],
      "execution_count": null,
      "outputs": [
        {
          "output_type": "execute_result",
          "data": {
            "text/html": [
              "<div>\n",
              "<style scoped>\n",
              "    .dataframe tbody tr th:only-of-type {\n",
              "        vertical-align: middle;\n",
              "    }\n",
              "\n",
              "    .dataframe tbody tr th {\n",
              "        vertical-align: top;\n",
              "    }\n",
              "\n",
              "    .dataframe thead th {\n",
              "        text-align: right;\n",
              "    }\n",
              "</style>\n",
              "<table border=\"1\" class=\"dataframe\">\n",
              "  <thead>\n",
              "    <tr style=\"text-align: right;\">\n",
              "      <th></th>\n",
              "      <th>Close</th>\n",
              "    </tr>\n",
              "  </thead>\n",
              "  <tbody>\n",
              "    <tr>\n",
              "      <th>count</th>\n",
              "      <td>1556.000000</td>\n",
              "    </tr>\n",
              "    <tr>\n",
              "      <th>mean</th>\n",
              "      <td>584.239396</td>\n",
              "    </tr>\n",
              "    <tr>\n",
              "      <th>std</th>\n",
              "      <td>525.904442</td>\n",
              "    </tr>\n",
              "    <tr>\n",
              "      <th>min</th>\n",
              "      <td>68.430000</td>\n",
              "    </tr>\n",
              "    <tr>\n",
              "      <th>25%</th>\n",
              "      <td>254.320000</td>\n",
              "    </tr>\n",
              "    <tr>\n",
              "      <th>50%</th>\n",
              "      <td>438.855000</td>\n",
              "    </tr>\n",
              "    <tr>\n",
              "      <th>75%</th>\n",
              "      <td>663.402500</td>\n",
              "    </tr>\n",
              "    <tr>\n",
              "      <th>max</th>\n",
              "      <td>2958.110000</td>\n",
              "    </tr>\n",
              "  </tbody>\n",
              "</table>\n",
              "</div>"
            ],
            "text/plain": [
              "             Close\n",
              "count  1556.000000\n",
              "mean    584.239396\n",
              "std     525.904442\n",
              "min      68.430000\n",
              "25%     254.320000\n",
              "50%     438.855000\n",
              "75%     663.402500\n",
              "max    2958.110000"
            ]
          },
          "metadata": {
            "tags": []
          },
          "execution_count": 91
        }
      ]
    },
    {
      "cell_type": "code",
      "metadata": {
        "colab": {
          "base_uri": "https://localhost:8080/"
        },
        "id": "6mXTPejqITsC",
        "outputId": "25dfd589-129f-4d29-8307-4619175ed259"
      },
      "source": [
        "mae = float(history.history['mae'][99])\n",
        "mae_val = float(history.history['val_mae'][99])\n",
        "mae_scale = round((df['Close'].max() - df['Close'].min()) * (10 / 100), 2)\n",
        "if mae < mae_scale:\n",
        "  print('mae train lebih kecil dari mae_scale 10% (terpenuhi)')\n",
        "else:\n",
        "  print('mae train lebih besar dari mae_scale(tidak terpenuhi)')\n",
        "if mae_val < mae_scale:\n",
        "  print('mae validation lebih kecil dari mae_scale 10% (terpenuhi)')\n",
        "else:\n",
        "  print('mae train lebih besar dari mae_scale(tidak terpenuhi)')"
      ],
      "execution_count": null,
      "outputs": [
        {
          "output_type": "stream",
          "text": [
            "mae train lebih kecil dari mae_scale 10% (terpenuhi)\n",
            "mae validation lebih kecil dari mae_scale 10% (terpenuhi)\n"
          ],
          "name": "stdout"
        }
      ]
    }
  ]
}